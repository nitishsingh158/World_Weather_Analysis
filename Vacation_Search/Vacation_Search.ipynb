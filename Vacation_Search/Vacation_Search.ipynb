{
 "cells": [
  {
   "cell_type": "markdown",
   "metadata": {},
   "source": [
    "## Deliverable 2. Create a Customer Travel Destinations Map."
   ]
  },
  {
   "cell_type": "code",
   "execution_count": 1,
   "metadata": {},
   "outputs": [],
   "source": [
    "# Dependencies and Setup\n",
    "import pandas as pd\n",
    "import requests\n",
    "import gmaps\n",
    "from pprint import pprint\n",
    "import sys\n",
    "import matplotlib.pyplot as plt\n",
    "# Import API key\n",
    "sys.path.append('..')\n",
    "from config import g_key\n",
    "\n",
    "# Configure gmaps API key\n",
    "gmaps.configure(api_key=g_key)"
   ]
  },
  {
   "cell_type": "code",
   "execution_count": 2,
   "metadata": {},
   "outputs": [
    {
     "output_type": "execute_result",
     "data": {
      "text/plain": "   Unnamed: 0         City Country    Lat     Lng  Max Temp  Humidity  \\\n0           0       Hasaki      JP  35.73  140.83     66.20        88   \n1           1     Karratha      AU -20.74  116.85     56.84        37   \n2           2  Yellowknife      CA  62.46 -114.35     50.00        76   \n3           3      Mataura      NZ -46.19  168.86     48.99        96   \n4           4     Sulangan      PH  11.14  123.72     82.02        78   \n\n   Cloudiness  Wind Speed          Current Description  \n0          75        2.24  light intensity shower rain  \n1          93       15.86              overcast clouds  \n2          75       18.34                broken clouds  \n3         100       11.01                   light rain  \n4          99        8.23                moderate rain  ",
      "text/html": "<div>\n<style scoped>\n    .dataframe tbody tr th:only-of-type {\n        vertical-align: middle;\n    }\n\n    .dataframe tbody tr th {\n        vertical-align: top;\n    }\n\n    .dataframe thead th {\n        text-align: right;\n    }\n</style>\n<table border=\"1\" class=\"dataframe\">\n  <thead>\n    <tr style=\"text-align: right;\">\n      <th></th>\n      <th>Unnamed: 0</th>\n      <th>City</th>\n      <th>Country</th>\n      <th>Lat</th>\n      <th>Lng</th>\n      <th>Max Temp</th>\n      <th>Humidity</th>\n      <th>Cloudiness</th>\n      <th>Wind Speed</th>\n      <th>Current Description</th>\n    </tr>\n  </thead>\n  <tbody>\n    <tr>\n      <th>0</th>\n      <td>0</td>\n      <td>Hasaki</td>\n      <td>JP</td>\n      <td>35.73</td>\n      <td>140.83</td>\n      <td>66.20</td>\n      <td>88</td>\n      <td>75</td>\n      <td>2.24</td>\n      <td>light intensity shower rain</td>\n    </tr>\n    <tr>\n      <th>1</th>\n      <td>1</td>\n      <td>Karratha</td>\n      <td>AU</td>\n      <td>-20.74</td>\n      <td>116.85</td>\n      <td>56.84</td>\n      <td>37</td>\n      <td>93</td>\n      <td>15.86</td>\n      <td>overcast clouds</td>\n    </tr>\n    <tr>\n      <th>2</th>\n      <td>2</td>\n      <td>Yellowknife</td>\n      <td>CA</td>\n      <td>62.46</td>\n      <td>-114.35</td>\n      <td>50.00</td>\n      <td>76</td>\n      <td>75</td>\n      <td>18.34</td>\n      <td>broken clouds</td>\n    </tr>\n    <tr>\n      <th>3</th>\n      <td>3</td>\n      <td>Mataura</td>\n      <td>NZ</td>\n      <td>-46.19</td>\n      <td>168.86</td>\n      <td>48.99</td>\n      <td>96</td>\n      <td>100</td>\n      <td>11.01</td>\n      <td>light rain</td>\n    </tr>\n    <tr>\n      <th>4</th>\n      <td>4</td>\n      <td>Sulangan</td>\n      <td>PH</td>\n      <td>11.14</td>\n      <td>123.72</td>\n      <td>82.02</td>\n      <td>78</td>\n      <td>99</td>\n      <td>8.23</td>\n      <td>moderate rain</td>\n    </tr>\n  </tbody>\n</table>\n</div>"
     },
     "metadata": {},
     "execution_count": 2
    }
   ],
   "source": [
    "# 1. Import the WeatherPy_database.csv file. \n",
    "city_data_df = pd.read_csv(\"../Weather_Database/WeatherPy_database.csv\")\n",
    "city_data_df.head()"
   ]
  },
  {
   "cell_type": "code",
   "execution_count": 3,
   "metadata": {},
   "outputs": [],
   "source": [
    "# 2. Prompt the user to enter minimum and maximum temperature criteria \n",
    "min_temp = float(input('What is the minimum temperature you would like? '))\n",
    "max_temp = float(input('What is the maximum temperature you would like? '))"
   ]
  },
  {
   "cell_type": "code",
   "execution_count": 4,
   "metadata": {},
   "outputs": [],
   "source": [
    "# 3. Filter the city_data_df DataFrame using the input statements to create a new DataFrame using the loc method.\n",
    "preffered_city = city_data_df.loc[(city_data_df['Max Temp']>=min_temp) & (city_data_df['Max Temp']<=max_temp)]"
   ]
  },
  {
   "cell_type": "code",
   "execution_count": 5,
   "metadata": {},
   "outputs": [
    {
     "output_type": "execute_result",
     "data": {
      "text/plain": "Unnamed: 0             0\nCity                   0\nCountry                1\nLat                    0\nLng                    0\nMax Temp               0\nHumidity               0\nCloudiness             0\nWind Speed             0\nCurrent Description    0\ndtype: int64"
     },
     "metadata": {},
     "execution_count": 5
    }
   ],
   "source": [
    "# 4a. Determine if there are any empty rows.\n",
    "preffered_city.isnull().sum()"
   ]
  },
  {
   "cell_type": "code",
   "execution_count": 6,
   "metadata": {},
   "outputs": [],
   "source": [
    "# 4b. Drop any empty rows and create a new DataFrame that doesn’t have empty rows.\n",
    "clean_df = preffered_city.dropna()"
   ]
  },
  {
   "cell_type": "code",
   "execution_count": 7,
   "metadata": {},
   "outputs": [],
   "source": [
    "# 5a. Create DataFrame called hotel_df to store hotel names along with city, country, max temp, and coordinates.\n",
    "hotel_df = clean_df[[\"City\", \"Country\", \"Max Temp\", \"Current Description\", \"Lat\", \"Lng\"]].copy()\n",
    "\n",
    "# 5b. Create a new column \"Hotel Name\"\n",
    "hotel_df[\"Hotel Name\"] = \"\""
   ]
  },
  {
   "cell_type": "code",
   "execution_count": 8,
   "metadata": {
    "tags": []
   },
   "outputs": [
    {
     "output_type": "stream",
     "name": "stdout",
     "text": "Hotel name not found for city:  Avera\nHotel name not found for city:  Carnot\nHotel name not found for city:  Mangai\nHotel name not found for city:  Camopi\nHotel name not found for city:  Kalakamati\nHotel name not found for city:  Gamba\nHotel name not found for city:  Poya\nHotel name not found for city:  Boende\nHotel name not found for city:  Zemio\n"
    }
   ],
   "source": [
    "# 6a. Set parameters to search for hotels with 5000 meters.\n",
    "params = {\n",
    "    \"radius\": 5000,\n",
    "    \"type\": \"lodging\",\n",
    "    \"key\": g_key,\n",
    "    \"location\":\"\"\n",
    "}\n",
    "\n",
    "# 6b. Iterate through the hotel DataFrame.\n",
    "for index,row in hotel_df.iterrows():\n",
    "    # 6c. Get latitude and longitude from DataFrame\n",
    "    lat = row['Lat']\n",
    "    lng = row['Lng']\n",
    "    params[\"location\"] = f'{lat},{lng}'\n",
    "    \n",
    "    # 6d. Set up the base URL for the Google Directions API to get JSON data.\n",
    "    base_url = 'https://maps.googleapis.com/maps/api/place/nearbysearch/json?'\n",
    "\n",
    "    # 6e. Make request and retrieve the JSON data from the search. \n",
    "    hotel = requests.get(base_url, params=params).json()\n",
    "    \n",
    "    # 6f. Get the first hotel from the results and store the name, if a hotel isn't found skip the city.\n",
    "    try:\n",
    "        hotel_name = hotel['results'][0]['name']\n",
    "        hotel_df.loc[index,'Hotel Name'] = hotel_name\n",
    "    except:\n",
    "        print('Hotel name not found for city: ',row['City'])\n",
    "        pass\n",
    "\n",
    "        "
   ]
  },
  {
   "cell_type": "code",
   "execution_count": 9,
   "metadata": {},
   "outputs": [
    {
     "output_type": "execute_result",
     "data": {
      "text/plain": "              City Country  Max Temp Current Description    Lat     Lng  \\\n8      Grand-Lahou      CI     75.61           clear sky   5.14   -5.02   \n9   Saint-Philippe      RE     71.60     overcast clouds -21.36   55.77   \n11          Atuona      PF     78.40          few clouds  -9.80 -139.03   \n18      Georgetown      MY     78.80          light rain   5.41  100.34   \n28            Payo      ID     72.86     overcast clouds  -3.75  103.64   \n\n                        Hotel Name  \n8   Hotel Beatitude de Grand Lahou  \n9     Chambres d&#39;hôte &quot;La Trinité&quot;  \n11                     Villa Enata  \n18                  Cititel Penang  \n28                Mess keban agung  ",
      "text/html": "<div>\n<style scoped>\n    .dataframe tbody tr th:only-of-type {\n        vertical-align: middle;\n    }\n\n    .dataframe tbody tr th {\n        vertical-align: top;\n    }\n\n    .dataframe thead th {\n        text-align: right;\n    }\n</style>\n<table border=\"1\" class=\"dataframe\">\n  <thead>\n    <tr style=\"text-align: right;\">\n      <th></th>\n      <th>City</th>\n      <th>Country</th>\n      <th>Max Temp</th>\n      <th>Current Description</th>\n      <th>Lat</th>\n      <th>Lng</th>\n      <th>Hotel Name</th>\n    </tr>\n  </thead>\n  <tbody>\n    <tr>\n      <th>8</th>\n      <td>Grand-Lahou</td>\n      <td>CI</td>\n      <td>75.61</td>\n      <td>clear sky</td>\n      <td>5.14</td>\n      <td>-5.02</td>\n      <td>Hotel Beatitude de Grand Lahou</td>\n    </tr>\n    <tr>\n      <th>9</th>\n      <td>Saint-Philippe</td>\n      <td>RE</td>\n      <td>71.60</td>\n      <td>overcast clouds</td>\n      <td>-21.36</td>\n      <td>55.77</td>\n      <td>Chambres d'hôte \"La Trinité\"</td>\n    </tr>\n    <tr>\n      <th>11</th>\n      <td>Atuona</td>\n      <td>PF</td>\n      <td>78.40</td>\n      <td>few clouds</td>\n      <td>-9.80</td>\n      <td>-139.03</td>\n      <td>Villa Enata</td>\n    </tr>\n    <tr>\n      <th>18</th>\n      <td>Georgetown</td>\n      <td>MY</td>\n      <td>78.80</td>\n      <td>light rain</td>\n      <td>5.41</td>\n      <td>100.34</td>\n      <td>Cititel Penang</td>\n    </tr>\n    <tr>\n      <th>28</th>\n      <td>Payo</td>\n      <td>ID</td>\n      <td>72.86</td>\n      <td>overcast clouds</td>\n      <td>-3.75</td>\n      <td>103.64</td>\n      <td>Mess keban agung</td>\n    </tr>\n  </tbody>\n</table>\n</div>"
     },
     "metadata": {},
     "execution_count": 9
    }
   ],
   "source": [
    "# 7. Drop the rows where there is no Hotel Name.\n",
    "clean_hotel_df = hotel_df.dropna()\n",
    "clean_hotel_df.head()"
   ]
  },
  {
   "cell_type": "code",
   "execution_count": 10,
   "metadata": {},
   "outputs": [],
   "source": [
    "# 8a. Create the output File (CSV)\n",
    "output_data_file = 'WeatherPy_vacation.csv'\n",
    "# 8b. Export the City_Data into a csv\n",
    "clean_hotel_df.to_csv(output_data_file, index_label=\"City_ID\")"
   ]
  },
  {
   "cell_type": "code",
   "execution_count": 11,
   "metadata": {},
   "outputs": [],
   "source": [
    "# 9. Using the template add city name, the country code, the weather description and maximum temperature for the city.\n",
    "info_box_template = \"\"\"\n",
    "<dl>\n",
    "<dt><b>Hotel Name</b></dt><dt>{Hotel Name}</dt>\n",
    "<dt><b>City</b></dt><dt>{City}</dt>\n",
    "<dt><b>Country Code</b></dt><dt>{Country}</dt>\n",
    "<dt><b>Weather Description</b></dt><dt>{Current Description}</dt>\n",
    "<dt><b>Max Temp</b></dt><dt>{Max Temp} °F</dt>\n",
    "</dl>\n",
    "\"\"\"\n",
    "# 10a. Get the data from each row and add it to the formatting template and store the data in a list.\n",
    "hotel_info = [info_box_template.format(**row) for index, row in clean_hotel_df.iterrows()]\n",
    "\n",
    "# 10b. Get the latitude and longitude from each row and store in a new DataFrame.\n",
    "locations = clean_hotel_df[[\"Lat\", \"Lng\"]]"
   ]
  },
  {
   "cell_type": "code",
   "execution_count": 12,
   "metadata": {},
   "outputs": [
    {
     "output_type": "display_data",
     "data": {
      "text/plain": "Figure(layout=FigureLayout(height=&#39;420px&#39;))",
      "application/vnd.jupyter.widget-view+json": {
       "version_major": 2,
       "version_minor": 0,
       "model_id": "ac8dac53e5944b1b9140a417b641c0aa"
      }
     },
     "metadata": {}
    }
   ],
   "source": [
    "# 11a. Add a marker layer for each city to the map. \n",
    "max_temp = clean_hotel_df['Max Temp']\n",
    "fig = gmaps.figure(center=(30.0, 31.0), zoom_level=1.5)\n",
    "heat_layer = gmaps.heatmap_layer(locations,weights=max_temp, max_intensity=300, dissipating =False, point_radius=4 )\n",
    "marker_layer = gmaps.marker_layer(locations,info_box_content=hotel_info)\n",
    "fig.add_layer(heat_layer)\n",
    "fig.add_layer(marker_layer)\n",
    "# 11b. Display the figure\n",
    "fig\n"
   ]
  },
  {
   "cell_type": "code",
   "execution_count": null,
   "metadata": {},
   "outputs": [],
   "source": []
  }
 ],
 "metadata": {
  "kernelspec": {
   "display_name": "PythonData",
   "language": "python",
   "name": "pythondata"
  },
  "language_info": {
   "codemirror_mode": {
    "name": "ipython",
    "version": 3
   },
   "file_extension": ".py",
   "mimetype": "text/x-python",
   "name": "python",
   "nbconvert_exporter": "python",
   "pygments_lexer": "ipython3",
   "version": "3.7.7-final"
  },
  "latex_envs": {
   "LaTeX_envs_menu_present": true,
   "autoclose": false,
   "autocomplete": true,
   "bibliofile": "biblio.bib",
   "cite_by": "apalike",
   "current_citInitial": 1,
   "eqLabelWithNumbers": true,
   "eqNumInitial": 1,
   "hotkeys": {
    "equation": "Ctrl-E",
    "itemize": "Ctrl-I"
   },
   "labels_anchors": false,
   "latex_user_defs": false,
   "report_style_numbering": false,
   "user_envs_cfg": false
  }
 },
 "nbformat": 4,
 "nbformat_minor": 2
}