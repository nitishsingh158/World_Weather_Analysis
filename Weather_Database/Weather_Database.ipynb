{
 "cells": [
  {
   "cell_type": "code",
   "execution_count": 1,
   "metadata": {},
   "outputs": [],
   "source": [
    "import pandas as pd\n",
    "import matplotlib.pyplot as plt\n",
    "from citipy import citipy\n",
    "import numpy as np\n",
    "import requests\n",
    "import sys\n",
    "sys.path.append('..')\n",
    "from config import weather_api_keys\n",
    "from datetime import datetime\n"
   ]
  },
  {
   "cell_type": "code",
   "execution_count": 2,
   "metadata": {},
   "outputs": [],
   "source": [
    "#Create a set of randon langitudes and latitudes\n",
    "lats = np.random.uniform(-90.00, 90.00, 2000)\n",
    "lngs = np.random.uniform(-180.00, 180.00, 2000)\n",
    "lat_lngs = zip(lats,lngs)"
   ]
  },
  {
   "cell_type": "code",
   "execution_count": 3,
   "metadata": {},
   "outputs": [],
   "source": [
    "#Create a coordinate list\n",
    "coordinates = list(lat_lngs)"
   ]
  },
  {
   "cell_type": "code",
   "execution_count": 4,
   "metadata": {
    "tags": []
   },
   "outputs": [
    {
     "output_type": "stream",
     "name": "stdout",
     "text": "Number of cities found: 729\n"
    }
   ],
   "source": [
    "#Using the citipy module find out how many cities are there in our random lat and lng list\n",
    "cities = []\n",
    "for coordinate in coordinates:\n",
    "    city = citipy.nearest_city(coordinate[0], coordinate[1]).city_name\n",
    "    if city not in cities:\n",
    "        cities.append(city)\n",
    "#Print number of cities\n",
    "print(f'Number of cities found: {len(cities)}')"
   ]
  },
  {
   "cell_type": "code",
   "execution_count": 5,
   "metadata": {
    "tags": [
     "outputPrepend"
    ]
   },
   "outputs": [
    {
     "output_type": "stream",
     "name": "stdout",
     "text": "ing record for city: Sonepur.\nGetting record for city: Qaanaaq.\nCity not found...skipping: Saint George.\nGetting record for city: Faanui.\nGetting record for city: Wajir.\nGetting record for city: Barrow.\nGetting record for city: Bogandinskiy.\nCity not found...skipping: Fort Saint John.\nGetting record for city: Pangkalanbuun.\nGetting record for city: Bilibino.\nGetting record for city: Ancud.\nGetting record for city: Taoudenni.\nGetting record for city: Yatou.\nGetting record for city: Kudahuvadhoo.\nGetting record for city: Ginda.\nGetting record for city: Atar.\nGetting record for city: Maragogi.\nGetting record for city: Matagami.\nGetting record for city: Ostroh.\nCity not found...skipping: Puerto Baquerizo Moreno.\nGetting record for city: Jinchang.\nGetting record for city: Manokwari.\nCity not found...skipping: Umm Kaddadah.\nCity not found...skipping: Broken Hill.\nGetting record for city: Blagoyevo.\nGetting record for city: Palamedu.\nGetting record for city: Hirara.\nCity not found...skipping: Grand Centre.\nGetting record for city: Geraldton.\nCity not found...skipping: Ha Giang.\nGetting record for city: Leningradskiy.\nCity not found...skipping: Santa Fe.\nCity not found...skipping: Abu Dhabi.\nGetting record for city: Luderitz.\nGetting record for city: Dickinson.\nGetting record for city: Harnosand.\nGetting record for city: Lata.\nGetting record for city: Herat.\nGetting record for city: Talnakh.\nGetting record for city: Moranbah.\nGetting record for city: Ambovombe.\nGetting record for city: Hovd.\nGetting record for city: Zhanaozen.\nCity not found...skipping: Rio Gallegos.\nCity not found...skipping: Bull Savanna.\nGetting record for city: Salalah.\nGetting record for city: Dosso.\nGetting record for city: Baiao.\nGetting record for city: Zhigansk.\nCity not found...skipping: East London.\nCity not found...skipping: Saryshagan.\nCity not found...skipping: Mount Gambier.\nGetting record for city: Oyama.\nGetting record for city: Camacha.\nGetting record for city: Ola.\nGetting record for city: Segezha.\nCity not found...skipping: San Juan.\nGetting record for city: Capoterra.\nGetting record for city: Havoysund.\nGetting record for city: Miedzychod.\nGetting record for city: Ilulissat.\nCity not found...skipping: Bolshoy Uluy.\nCity not found...skipping: Santa Ines.\nGetting record for city: Zamora.\nGetting record for city: Male.\nGetting record for city: Along.\nGetting record for city: Pemangkat.\nGetting record for city: Bowen.\nGetting record for city: Sumbe.\nGetting record for city: Shakawe.\nGetting record for city: Tombouctou.\nGetting record for city: Shingu.\nGetting record for city: Ambulu.\nGetting record for city: Petropavlovsk-Kamchatskiy.\nCity not found...skipping: Porto Walter.\nGetting record for city: Cap-Aux-Meules.\nGetting record for city: Novichikha.\nCity not found...skipping: Shpykiv.\nCity not found...skipping: Verdalsora.\nGetting record for city: Codrington.\nGetting record for city: Mersing.\nGetting record for city: Jawhar.\nGetting record for city: Krasnoselkup.\nGetting record for city: Awbari.\nGetting record for city: Dunedin.\nGetting record for city: Isangel.\nGetting record for city: Astoria.\nGetting record for city: Champerico.\nGetting record for city: Ust-Kuyga.\nGetting record for city: Yar-Sale.\nCity not found...skipping: Amderma.\nGetting record for city: Broome.\nGetting record for city: Cabedelo.\nCity not found...skipping: Ponta Do Sol.\nGetting record for city: Bereda.\nGetting record for city: Takoradi.\nGetting record for city: Airai.\nCity not found...skipping: Bolshegrivskoye.\nGetting record for city: Davila.\nGetting record for city: Abalak.\nCity not found...skipping: Abu Samrah.\nCity not found...skipping: Pontes E Lacerda.\nCity not found...skipping: Lar Gerd.\nGetting record for city: Avera.\nGetting record for city: Vangazi.\nCity not found...skipping: San Pedro.\nGetting record for city: Tuatapere.\nGetting record for city: Acari.\nGetting record for city: Watrous.\nGetting record for city: Roma.\nGetting record for city: Esperance.\nGetting record for city: Alofi.\nGetting record for city: Karwar.\nCity not found...skipping: Safaqis.\nGetting record for city: Popondetta.\nGetting record for city: Carnot.\nGetting record for city: Serramanna.\nCity not found...skipping: Quatre Cocos.\nGetting record for city: Praia.\nCity not found...skipping: Shasta Lake.\nCity not found...skipping: Samusu.\nGetting record for city: Bengkulu.\nGetting record for city: Kapuskasing.\nGetting record for city: Klaksvik.\nCity not found...skipping: Port Hardy.\nGetting record for city: Tual.\nCity not found...skipping: Nova Olimpia.\nGetting record for city: Vuktyl.\nCity not found...skipping: Tumannyy.\nGetting record for city: Cervo.\nGetting record for city: Goderich.\nGetting record for city: Montalvo.\nGetting record for city: Eirunepe.\nCity not found...skipping: Mount Isa.\nGetting record for city: Acarau.\nCity not found...skipping: San Patricio.\nGetting record for city: Mahibadhoo.\nCity not found...skipping: Walvis Bay.\nGetting record for city: Shizunai.\nCity not found...skipping: Nang Rong.\nGetting record for city: Kedrovyy.\nCity not found...skipping: Kuche.\nGetting record for city: Wangqing.\nCity not found...skipping: Karamken.\nGetting record for city: Tanout.\nGetting record for city: Kholm.\nGetting record for city: Cabinda.\nGetting record for city: Kautokeino.\nCity not found...skipping: Norman Wells.\nGetting record for city: Kosonsoy.\nGetting record for city: Santarem.\nGetting record for city: Omsukchan.\nGetting record for city: Baillif.\nCity not found...skipping: Haines Junction.\nGetting record for city: Sukhobezvodnoye.\nGetting record for city: Hennenman.\nGetting record for city: Shimoda.\nGetting record for city: Keta.\nCity not found...skipping: San Matias.\nGetting record for city: Kaseda.\nGetting record for city: Guarapari.\nGetting record for city: Kalmunai.\nCity not found...skipping: Half Moon Bay.\nGetting record for city: Sardarshahr.\nCity not found...skipping: Rio Grande.\nCity not found...skipping: Phan Thiet.\nCity not found...skipping: Staryy Nadym.\nGetting record for city: Mangai.\nGetting record for city: Palembang.\nGetting record for city: Rumonge.\nGetting record for city: Kaitangata.\nCity not found...skipping: Arakhova.\nCity not found...skipping: Utiroa.\nCity not found...skipping: Te Anau.\nGetting record for city: Souillac.\nGetting record for city: Sakakah.\nGetting record for city: Vestmanna.\nGetting record for city: Saint-Pierre.\nGetting record for city: Zilupe.\nCity not found...skipping: Kollumerland.\nGetting record for city: Pisco.\nGetting record for city: Awjilah.\nGetting record for city: Caconda.\nGetting record for city: Dindori.\nGetting record for city: Oistins.\nGetting record for city: Bonthe.\nGetting record for city: Bandarbeyla.\nCity not found...skipping: Bolshoye Sorokino.\nGetting record for city: Ambilobe.\nCity not found...skipping: Pinotepa Nacional.\nGetting record for city: Kovur.\nGetting record for city: Zhangye.\nGetting record for city: Nishihara.\nGetting record for city: Lodwar.\nGetting record for city: Kloulklubed.\nCity not found...skipping: Grand River South East.\nCity not found...skipping: Grand Gaube.\nGetting record for city: Araceli.\nCity not found...skipping: Saleaula.\nGetting record for city: Luwuk.\nCity not found...skipping: Vitimskiy.\nGetting record for city: Nemuro.\nCity not found...skipping: Doctor Pedro P. Pena.\nGetting record for city: Conde.\nGetting record for city: Teknaf.\nGetting record for city: Channarayapatna.\nGetting record for city: Centralia.\nGetting record for city: Rondonopolis.\nGetting record for city: Kavieng.\nGetting record for city: Kieta.\nGetting record for city: Bikaner.\nGetting record for city: Balagansk.\nGetting record for city: Iracoubo.\nCity not found...skipping: Lolua.\nGetting record for city: Hamilton.\nCity not found...skipping: Bolungarvik.\nGetting record for city: Pochutla.\nGetting record for city: Caravelas.\nGetting record for city: Chapleau.\nGetting record for city: Cayenne.\nCity not found...skipping: Sao Joao Da Barra.\nGetting record for city: Abonnema.\nGetting record for city: Tsumeb.\nGetting record for city: Kruisfontein.\nGetting record for city: Hobyo.\nGetting record for city: Kisangani.\nGetting record for city: Stephenville.\nGetting record for city: Severo-Yeniseyskiy.\nGetting record for city: Hambantota.\nGetting record for city: Hukuntsi.\nGetting record for city: Asau.\nGetting record for city: Bossangoa.\nGetting record for city: Lompoc.\nGetting record for city: Paamiut.\nGetting record for city: Berdigestyakh.\nGetting record for city: Yagodnoye.\nGetting record for city: Zyryanka.\nGetting record for city: Tabuk.\nCity not found...skipping: Port Augusta.\nGetting record for city: Basay.\nGetting record for city: Camopi.\nGetting record for city: Pachino.\nGetting record for city: Saint-Georges.\nGetting record for city: Portgordon.\nCity not found...skipping: Mountain Home.\nCity not found...skipping: Byron Bay.\nCity not found...skipping: Kampong Thum.\nCity not found...skipping: Mys Shmidta.\nGetting record for city: Tarko-Sale.\nGetting record for city: Ahipara.\nGetting record for city: Kilrush.\nCity not found...skipping: Cartagena Del Chaira.\nGetting record for city: Faya.\nGetting record for city: Dwarka.\nCity not found...skipping: Cape Coast.\nGetting record for city: Starkville.\nGetting record for city: Lewistown.\nCity not found...skipping: Cockburn Town.\nGetting record for city: Karatuzskoye.\nGetting record for city: Havre-Saint-Pierre.\nCity not found...skipping: Kadykchan.\nGetting record for city: Coahuayana.\nGetting record for city: Thinadhoo.\nCity not found...skipping: Meyungs.\nCity not found...skipping: Los Llanos De Aridane.\nGetting record for city: Sompeta.\nGetting record for city: Mangrol.\nGetting record for city: Matara.\nGetting record for city: Moscow.\nCity not found...skipping: San Quintin.\nGetting record for city: Botro.\nGetting record for city: Kalakamati.\nGetting record for city: Caucaia.\nGetting record for city: Pomabamba.\nCity not found...skipping: Abu Kamal.\nCity not found...skipping: Ust-Bolsheretsk.\nCity not found...skipping: Makakilo City.\nCity not found...skipping: La Asuncion.\nCity not found...skipping: Les Cayes.\nCity not found...skipping: Andarab.\nGetting record for city: Cardston.\nGetting record for city: Iki-Burul.\nGetting record for city: Berlevag.\nGetting record for city: Newport.\nGetting record for city: Epe.\nGetting record for city: Aswan.\nGetting record for city: Balad.\nGetting record for city: Saladoblanco.\nCity not found...skipping: Tsihombe.\nGetting record for city: Kutum.\nGetting record for city: Barranca.\nCity not found...skipping: Cambyreta.\nGetting record for city: Southbridge.\nGetting record for city: Tura.\nGetting record for city: Suez.\nGetting record for city: Mehamn.\nGetting record for city: Kampene.\nGetting record for city: Duncan.\nGetting record for city: Trinidad.\nGetting record for city: Port-Gentil.\nGetting record for city: Margate.\nCity not found...skipping: Santa Barbara.\nGetting record for city: Sapouy.\nGetting record for city: Asha.\nGetting record for city: Salym.\nGetting record for city: Hualmay.\nGetting record for city: Nara.\nGetting record for city: Mildura.\nGetting record for city: Olafsvik.\nGetting record for city: Naron.\nGetting record for city: Rucheng.\nGetting record for city: Manado.\nGetting record for city: Llangefni.\nGetting record for city: Honningsvag.\nGetting record for city: Arlit.\nGetting record for city: Pilar.\nGetting record for city: Orje.\nGetting record for city: Maningrida.\nCity not found...skipping: General Roca.\nGetting record for city: Luena.\nGetting record for city: Levin.\nCity not found...skipping: Astipalaia.\nCity not found...skipping: Henties Bay.\nGetting record for city: Chaadayevka.\nCity not found...skipping: Dien Bien.\nGetting record for city: Sampit.\nGetting record for city: Egvekinot.\nGetting record for city: Gandajika.\nGetting record for city: Itupiranga.\nGetting record for city: Portales.\nGetting record for city: Pangody.\nGetting record for city: Bhachau.\nCity not found...skipping: Sao Felix Do Xingu.\nGetting record for city: Nampa.\nGetting record for city: Kitale.\nGetting record for city: Ningyang.\nGetting record for city: Katherine.\nGetting record for city: Rawson.\nGetting record for city: Gamba.\nGetting record for city: Poya.\nGetting record for city: Milkovo.\nGetting record for city: Vagay.\nGetting record for city: Graaff-Reinet.\nGetting record for city: Ghotki.\nGetting record for city: Concepcion.\nCity not found...skipping: Zanatepec.\nGetting record for city: Flinders.\nGetting record for city: Kyshtovka.\nGetting record for city: Sonoita.\nCity not found...skipping: Cheuskiny.\nGetting record for city: Jiuquan.\nGetting record for city: Dogondoutchi.\nGetting record for city: Ucluelet.\nCity not found...skipping: Boa Viagem.\nGetting record for city: Boende.\nGetting record for city: Niono.\nGetting record for city: Leshukonskoye.\nGetting record for city: Inirida.\nCity not found...skipping: Urdzhar.\nGetting record for city: Altayskoye.\nGetting record for city: Dourados.\nCity not found...skipping: Marcona.\nCity not found...skipping: Saint Anthony.\nGetting record for city: Itarema.\nGetting record for city: Asfi.\nCity not found...skipping: Barroualie.\nCity not found...skipping: Prince Rupert.\nGetting record for city: Lancaster.\nCity not found...skipping: North Bend.\nCity not found...skipping: Cap Malheureux.\nCity not found...skipping: Sao Filipe.\nCity not found...skipping: Silver City.\nCity not found...skipping: Tabukiniberu.\nGetting record for city: Prado.\nGetting record for city: Ayan.\nCity not found...skipping: Porto Novo.\nCity not found...skipping: Comodoro Rivadavia.\nGetting record for city: Pindiga.\nGetting record for city: Salinopolis.\nGetting record for city: Taitung.\nCity not found...skipping: Tambul.\nGetting record for city: Jalu.\nGetting record for city: Blyth.\nGetting record for city: Raudeberg.\nGetting record for city: Biak.\nGetting record for city: Olden.\nGetting record for city: Cajnice.\nGetting record for city: Altay.\nGetting record for city: Lhokseumawe.\nCity not found...skipping: Morro Bay.\nGetting record for city: Whitehorse.\nGetting record for city: Poum.\nGetting record for city: Neiafu.\nGetting record for city: Bismarck.\nGetting record for city: Araguaina.\nGetting record for city: Oksfjord.\nCity not found...skipping: San Cristobal.\nGetting record for city: Olinda.\nCity not found...skipping: Skalistyy.\nGetting record for city: Aragarcas.\nGetting record for city: Usinsk.\nGetting record for city: Litovko.\nGetting record for city: Ouadda.\nCity not found...skipping: Presidencia Roque Saenz Pena.\nCity not found...skipping: Puerto El Triunfo.\nGetting record for city: Almaznyy.\nCity not found...skipping: Nuevo Imperial.\nGetting record for city: Mikkeli.\nGetting record for city: Mont-De-Marsan.\nGetting record for city: Sept-Iles.\nGetting record for city: Plouzane.\nGetting record for city: Setermoen.\nCity not found...skipping: Moose Factory.\nCity not found...skipping: Nova Serrana.\nGetting record for city: Toktogul.\nGetting record for city: Moroni.\nGetting record for city: Dudinka.\nCity not found...skipping: Bahia Honda.\nCity not found...skipping: Barbar.\nGetting record for city: Carlsbad.\nGetting record for city: Ati.\nGetting record for city: Waingapu.\nGetting record for city: Gangapur.\nGetting record for city: Odesskoye.\nGetting record for city: Moree.\nCity not found...skipping: Umzimvubu.\nGetting record for city: Nurota.\nGetting record for city: Nichinan.\nGetting record for city: Sainte-Marie.\nGetting record for city: Iskateley.\nGetting record for city: Chicama.\nCity not found...skipping: General Jose Eduvigis Diaz.\nGetting record for city: Trelew.\nGetting record for city: Oktyabrskiy.\nGetting record for city: Matay.\nGetting record for city: Surt.\nGetting record for city: Bonfim.\nGetting record for city: Maiduguri.\nGetting record for city: Nadvoitsy.\nGetting record for city: Eilenburg.\nCity not found...skipping: Santa Cruz.\nGetting record for city: Neya.\nGetting record for city: Quelimane.\nGetting record for city: Carman.\nGetting record for city: Barcelos.\nGetting record for city: Ivankiv.\nCity not found...skipping: Vila Franca Do Campo.\nGetting record for city: Akyab.\nGetting record for city: Saint-Ambroise.\nGetting record for city: Beloha.\nGetting record for city: Emerald.\nCity not found...skipping: Sao Jose Da Coroa Grande.\nGetting record for city: Launceston.\nGetting record for city: Kimbe.\nGetting record for city: Myitkyina.\nGetting record for city: Tiznit.\nCity not found...skipping: Keshan.\nGetting record for city: Zemio.\nGetting record for city: Madang.\nGetting record for city: Kamenka.\nCity not found...skipping: Cedar City.\nGetting record for city: Naze.\nCity not found...skipping: San Policarpo.\nGetting record for city: Axim.\nGetting record for city: Bonavista.\nGetting record for city: Boyolangu.\nGetting record for city: Fairbanks.\nGetting record for city: Mamonovo.\nGetting record for city: Mlowo.\nGetting record for city: Maridi.\nGetting record for city: Lavrentiya.\nGetting record for city: Siniscola.\nGetting record for city: Muros.\nGetting record for city: Letlhakane.\nGetting record for city: Dawei.\nGetting record for city: Xiongzhou.\nGetting record for city: Latung.\nGetting record for city: Hlobyne.\nGetting record for city: Kenitra.\nGetting record for city: Yandyki.\nCity not found...skipping: Nova Varos.\nGetting record for city: Pangnirtung.\nCity not found...skipping: High Level.\nGetting record for city: Kupang.\nGetting record for city: Nsoko.\nGetting record for city: Songjianghe.\nGetting record for city: Shelburne.\nGetting record for city: Miravci.\nGetting record for city: Flagstaff.\nCity not found...skipping: Alice Springs.\nCity not found...skipping: Miles City.\nGetting record for city: Ikalamavony.\nGetting record for city: Normandin.\nGetting record for city: Mantua.\nGetting record for city: Christchurch.\nGetting record for city: Hede.\nCity not found...skipping: Fort Nelson.\nGetting record for city: Kingaroy.\nGetting record for city: Nassau.\nGetting record for city: Kiama.\nGetting record for city: Benavente.\nGetting record for city: Farafangana.\nGetting record for city: Drummondville.\nGetting record for city: Ternate.\nGetting record for city: Sistranda.\nCity not found...skipping: Hudson Bay.\nGetting record for city: Hargeysa.\nGetting record for city: Darhan.\nGetting record for city: Qingdao.\nGetting record for city: Tongliao.\nGetting record for city: Belmonte.\nGetting record for city: Riyadh.\nGetting record for city: Totma.\nCity not found...skipping: Agua Branca.\nCity not found...skipping: Borlange.\nGetting record for city: Vilyuysk.\nCity not found...skipping: Puerto Narino.\nGetting record for city: Barreirinha.\nGetting record for city: Osoyoos.\nGetting record for city: Tautira.\nGetting record for city: Yarmouth.\nCity not found...skipping: Tabialan.\nGetting record for city: Opuwo.\nGetting record for city: Burnie.\nGetting record for city: Fukuma.\nGetting record for city: Harper.\nGetting record for city: Maroantsetra.\nGetting record for city: Lukovetskiy.\nGetting record for city: Karasburg.\nCity not found...skipping: Novyy Urengoy.\nGetting record for city: Matola.\nCity not found...skipping: Bur Gabo.\nGetting record for city: Mirabela.\nCity not found...skipping: Las Cruces.\nGetting record for city: Tezu.\nGetting record for city: Nocupetaro.\nGetting record for city: Kodinsk.\nGetting record for city: Aiken.\nGetting record for city: Linxia.\nCity not found...skipping: San Rafael.\nCity not found...skipping: Sao Jose Dos Pinhais.\nGetting record for city: Marigot.\nGetting record for city: Babusnica.\nGetting record for city: Cernay.\nGetting record for city: Necochea.\nCity not found...skipping: Arroio Grande.\nCity not found...skipping: Dong Hoi.\nGetting record for city: Aloleng.\nGetting record for city: Zlobin.\nGetting record for city: Vao.\nGetting record for city: Schmolln.\nGetting record for city: Viru.\nGetting record for city: Setubal.\nGetting record for city: Parabel.\nTotal number of city records fetched: 552.\n"
    }
   ],
   "source": [
    "# Create an empty list to hold the weather data and query the openweather api\n",
    "params = {'appid':weather_api_keys,\n",
    "         'units':'imperial',\n",
    "         'q':''}\n",
    "\n",
    "city_data =[]\n",
    "base_url = 'https://api.openweathermap.org/data/2.5/weather?'\n",
    "print('Starting Data Retreival.....................\\n')\n",
    "for city in cities:\n",
    "    params['q'] = city.replace(' ','+')\n",
    "    city_weather = requests.get(base_url,params=params).json()\n",
    "    try:\n",
    "        city_lat = city_weather[\"coord\"][\"lat\"]\n",
    "        city_lng = city_weather[\"coord\"][\"lon\"]\n",
    "        city_max_temp = city_weather[\"main\"][\"temp_max\"]\n",
    "        city_humidity = city_weather[\"main\"][\"humidity\"]\n",
    "        city_clouds = city_weather[\"clouds\"][\"all\"]\n",
    "        city_wind = city_weather[\"wind\"][\"speed\"]\n",
    "        city_country = city_weather[\"sys\"][\"country\"]\n",
    "        city_description = city_weather['weather'][0]['description']\n",
    "        print(f'Getting record for city: {city.title()}.')\n",
    "       \n",
    "        # Append the city information into city_data list.\n",
    "        city_data.append({\"City\": city.title(),\n",
    "                          \"Country\": city_country,\n",
    "                          \"Lat\": city_lat,\n",
    "                          \"Lng\": city_lng,\n",
    "                          \"Max Temp\": city_max_temp,\n",
    "                          \"Humidity\": city_humidity,\n",
    "                          \"Cloudiness\": city_clouds,\n",
    "                          \"Wind Speed\": city_wind,\n",
    "                          \"Current Description\": city_description\n",
    "                         })\n",
    "    except:\n",
    "        print(f'City not found...skipping: {city.title()}.')\n",
    "        pass\n",
    "city_data_df = pd.DataFrame(city_data)\n",
    "print(f'Total number of city records fetched: {len(city_data_df)}.')"
   ]
  },
  {
   "cell_type": "code",
   "execution_count": 6,
   "metadata": {},
   "outputs": [],
   "source": [
    "#Save the weather information to a weather database csv. We will use this data in the next notebook.\n",
    "output_file = 'WeatherPy_Database.csv'\n",
    "city_data_df.to_csv(output_file)"
   ]
  },
  {
   "cell_type": "code",
   "execution_count": null,
   "metadata": {},
   "outputs": [],
   "source": []
  }
 ],
 "metadata": {
  "kernelspec": {
   "display_name": "PythonData",
   "language": "python",
   "name": "pythondata"
  },
  "language_info": {
   "codemirror_mode": {
    "name": "ipython",
    "version": 3
   },
   "file_extension": ".py",
   "mimetype": "text/x-python",
   "name": "python",
   "nbconvert_exporter": "python",
   "pygments_lexer": "ipython3",
   "version": "3.7.7-final"
  }
 },
 "nbformat": 4,
 "nbformat_minor": 4
}