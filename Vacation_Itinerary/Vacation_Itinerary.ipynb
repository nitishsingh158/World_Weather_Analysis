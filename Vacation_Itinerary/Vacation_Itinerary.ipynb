{
 "cells": [
  {
   "cell_type": "markdown",
   "metadata": {},
   "source": [
    "## Deliverable 3. Create a Travel Itinerary Map."
   ]
  },
  {
   "cell_type": "code",
   "execution_count": 2,
   "metadata": {},
   "outputs": [],
   "source": [
    "# Dependencies and Setup\n",
    "import pandas as pd\n",
    "import requests\n",
    "import gmaps\n",
    "import gmaps.datasets\n",
    "import sys\n",
    "\n",
    "# Import API key\n",
    "sys.path.append('..')\n",
    "from config import g_key\n",
    "\n",
    "# Configure gmaps\n",
    "gmaps.configure(api_key=g_key)"
   ]
  },
  {
   "cell_type": "code",
   "execution_count": 3,
   "metadata": {},
   "outputs": [
    {
     "output_type": "execute_result",
     "data": {
      "text/plain": "   City_ID         City Country  Max Temp Current Description    Lat     Lng  \\\n0        2       Atuona      PF     78.69           clear sky  -9.80 -139.03   \n1        3     Victoria      HK     84.00          few clouds  22.29  114.16   \n2       12       Obidos      BR     80.26     overcast clouds  -1.92  -55.52   \n3       14  Jacqueville      CI     77.00    scattered clouds   5.21   -4.41   \n4       17      Sibolga      ID     75.33     overcast clouds   1.74   98.78   \n\n                    Hotel Name  \n0                  Villa Enata  \n1           Mini Hotel Central  \n2        Hotel Amazônia Center  \n3      Hotel Le Martin Pecheur  \n4  Hotel Syariah CN Darussalam  ",
      "text/html": "<div>\n<style scoped>\n    .dataframe tbody tr th:only-of-type {\n        vertical-align: middle;\n    }\n\n    .dataframe tbody tr th {\n        vertical-align: top;\n    }\n\n    .dataframe thead th {\n        text-align: right;\n    }\n</style>\n<table border=\"1\" class=\"dataframe\">\n  <thead>\n    <tr style=\"text-align: right;\">\n      <th></th>\n      <th>City_ID</th>\n      <th>City</th>\n      <th>Country</th>\n      <th>Max Temp</th>\n      <th>Current Description</th>\n      <th>Lat</th>\n      <th>Lng</th>\n      <th>Hotel Name</th>\n    </tr>\n  </thead>\n  <tbody>\n    <tr>\n      <th>0</th>\n      <td>2</td>\n      <td>Atuona</td>\n      <td>PF</td>\n      <td>78.69</td>\n      <td>clear sky</td>\n      <td>-9.80</td>\n      <td>-139.03</td>\n      <td>Villa Enata</td>\n    </tr>\n    <tr>\n      <th>1</th>\n      <td>3</td>\n      <td>Victoria</td>\n      <td>HK</td>\n      <td>84.00</td>\n      <td>few clouds</td>\n      <td>22.29</td>\n      <td>114.16</td>\n      <td>Mini Hotel Central</td>\n    </tr>\n    <tr>\n      <th>2</th>\n      <td>12</td>\n      <td>Obidos</td>\n      <td>BR</td>\n      <td>80.26</td>\n      <td>overcast clouds</td>\n      <td>-1.92</td>\n      <td>-55.52</td>\n      <td>Hotel Amazônia Center</td>\n    </tr>\n    <tr>\n      <th>3</th>\n      <td>14</td>\n      <td>Jacqueville</td>\n      <td>CI</td>\n      <td>77.00</td>\n      <td>scattered clouds</td>\n      <td>5.21</td>\n      <td>-4.41</td>\n      <td>Hotel Le Martin Pecheur</td>\n    </tr>\n    <tr>\n      <th>4</th>\n      <td>17</td>\n      <td>Sibolga</td>\n      <td>ID</td>\n      <td>75.33</td>\n      <td>overcast clouds</td>\n      <td>1.74</td>\n      <td>98.78</td>\n      <td>Hotel Syariah CN Darussalam</td>\n    </tr>\n  </tbody>\n</table>\n</div>"
     },
     "metadata": {},
     "execution_count": 3
    }
   ],
   "source": [
    "# 1. Read the WeatherPy_vacation.csv into a DataFrame.\n",
    "vacation_df = pd.read_csv(\"../Vacation_Search/WeatherPy_vacation.csv\")\n",
    "vacation_df.head()"
   ]
  },
  {
   "cell_type": "code",
   "execution_count": 4,
   "metadata": {},
   "outputs": [],
   "source": [
    "# 2. Using the template add the city name, the country code, the weather description and maximum temperature for the city.\n",
    "info_box_template = \"\"\"\n",
    "<dl>\n",
    "<dt><b>City Name</b></dt><dt>{City}</dt>\n",
    "<dt><b>County Code</b></dt><dt>{Country}</dt>\n",
    "<dt><b>Weather Description</b></dt><dt>{Current Description}</dt>\n",
    "<dt><b>Max Temp</b></dt><dt>{Max Temp} F</dt>\n",
    "</dl>\n",
    "\"\"\"\n",
    "\n",
    "# 3a. Get the data from each row and add it to the formatting template and store the data in a list.\n",
    "hotel_info = [info_box_template.format(**row) for index, row in vacation_df.iterrows()]\n",
    "\n",
    "# 3b. Get the latitude and longitude from each row and store in a new DataFrame.\n",
    "locations = vacation_df[[\"Lat\", \"Lng\"]]"
   ]
  },
  {
   "cell_type": "code",
   "execution_count": 7,
   "metadata": {},
   "outputs": [
    {
     "output_type": "display_data",
     "data": {
      "text/plain": "Figure(layout=FigureLayout(height=&#39;420px&#39;))",
      "application/vnd.jupyter.widget-view+json": {
       "version_major": 2,
       "version_minor": 0,
       "model_id": "1666dfa1484f49e69fc3930399bd2270"
      }
     },
     "metadata": {}
    }
   ],
   "source": [
    "# 4a. Add a marker layer for each city to the map.\n",
    "max_temp = vacation_df['Max Temp']\n",
    "fig = gmaps.figure(center=(30.0, 31.0), zoom_level=1.5)\n",
    "heat_layer = gmaps.heatmap_layer(locations,weights=max_temp,max_intensity=300,dissipating=False, point_radius=4)\n",
    "marker_layer =  gmaps.marker_layer(locations,info_box_content=hotel_info)\n",
    "fig.add_layer(heat_layer)\n",
    "fig.add_layer(marker_layer)\n",
    "# 4b. Display the figure\n",
    "fig\n"
   ]
  },
  {
   "cell_type": "code",
   "execution_count": 36,
   "metadata": {},
   "outputs": [],
   "source": [
    "# From the map above pick 4 cities and create a vacation itinerary route to travel between the four cities. \n",
    "# 5. Create DataFrames for each city by filtering the 'vacation_df' using the loc method. \n",
    "# Hint: The starting and ending city should be the same city.\n",
    "\n",
    "vacation_start = vacation_df.loc[vacation_df['City']=='Hasaki']\n",
    "vacation_end = vacation_df.loc[vacation_df['City']=='Hasaki']\n",
    "vacation_stop1 = vacation_df.loc[vacation_df['City']=='Katsuura']\n",
    "vacation_stop2 = vacation_df.loc[vacation_df['City']=='Itoigawa'] \n",
    "vacation_stop3 = vacation_df.loc[vacation_df['City']=='Ryotsu'] "
   ]
  },
  {
   "cell_type": "code",
   "execution_count": 37,
   "metadata": {},
   "outputs": [],
   "source": [
    "# 6. Get the latitude-longitude pairs as tuples from each city DataFrame using the to_numpy function and list indexing.\n",
    "start = tuple(vacation_start.to_numpy()[0][5:7])\n",
    "end = tuple(vacation_end.to_numpy()[0][5:7])\n",
    "stop1 = tuple(vacation_stop1.to_numpy()[0][5:7])\n",
    "stop2 = tuple(vacation_stop2.to_numpy()[0][5:7])\n",
    "stop3 = tuple(vacation_stop3.to_numpy()[0][5:7])"
   ]
  },
  {
   "cell_type": "code",
   "execution_count": 38,
   "metadata": {
    "scrolled": true
   },
   "outputs": [
    {
     "output_type": "display_data",
     "data": {
      "text/plain": "Figure(layout=FigureLayout(height=&#39;420px&#39;))",
      "application/vnd.jupyter.widget-view+json": {
       "version_major": 2,
       "version_minor": 0,
       "model_id": "62f55557bdaf49cfa8318822696f5699"
      }
     },
     "metadata": {}
    }
   ],
   "source": [
    "# 7. Create a direction layer map using the start and end latitude-longitude pairs,\n",
    "# and stop1, stop2, and stop3 as the waypoints. The travel_mode should be \"DRIVING\", \"BICYCLING\", or \"WALKING\".\n",
    "fig = gmaps.figure()\n",
    "japan_trip = gmaps.directions_layer(start,end,waypoints=[stop1,stop2, stop3],travel_mode='DRIVING')\n",
    "fig.add_layer(japan_trip)\n",
    "fig\n"
   ]
  },
  {
   "cell_type": "code",
   "execution_count": 39,
   "metadata": {},
   "outputs": [
    {
     "output_type": "execute_result",
     "data": {
      "text/plain": "   City_ID      City Country  Max Temp Current Description    Lat     Lng  \\\n0      285    Hasaki      JP     82.99          few clouds  35.73  140.83   \n1      118  Katsuura      JP     82.99          few clouds  35.13  140.30   \n2      483  Itoigawa      JP     81.00          few clouds  37.03  137.85   \n3      388    Ryotsu      JP     75.20    scattered clouds  38.08  138.43   \n\n                                Hotel Name  \n0                    Inubosaki Kanko Hotel  \n1                  Katsuura Hotel Mikazuki  \n2                 Hotel Route Inn Itoigawa  \n3  Sadokamoko Onsen Kohanno Yado Yoshidaya  ",
      "text/html": "<div>\n<style scoped>\n    .dataframe tbody tr th:only-of-type {\n        vertical-align: middle;\n    }\n\n    .dataframe tbody tr th {\n        vertical-align: top;\n    }\n\n    .dataframe thead th {\n        text-align: right;\n    }\n</style>\n<table border=\"1\" class=\"dataframe\">\n  <thead>\n    <tr style=\"text-align: right;\">\n      <th></th>\n      <th>City_ID</th>\n      <th>City</th>\n      <th>Country</th>\n      <th>Max Temp</th>\n      <th>Current Description</th>\n      <th>Lat</th>\n      <th>Lng</th>\n      <th>Hotel Name</th>\n    </tr>\n  </thead>\n  <tbody>\n    <tr>\n      <th>0</th>\n      <td>285</td>\n      <td>Hasaki</td>\n      <td>JP</td>\n      <td>82.99</td>\n      <td>few clouds</td>\n      <td>35.73</td>\n      <td>140.83</td>\n      <td>Inubosaki Kanko Hotel</td>\n    </tr>\n    <tr>\n      <th>1</th>\n      <td>118</td>\n      <td>Katsuura</td>\n      <td>JP</td>\n      <td>82.99</td>\n      <td>few clouds</td>\n      <td>35.13</td>\n      <td>140.30</td>\n      <td>Katsuura Hotel Mikazuki</td>\n    </tr>\n    <tr>\n      <th>2</th>\n      <td>483</td>\n      <td>Itoigawa</td>\n      <td>JP</td>\n      <td>81.00</td>\n      <td>few clouds</td>\n      <td>37.03</td>\n      <td>137.85</td>\n      <td>Hotel Route Inn Itoigawa</td>\n    </tr>\n    <tr>\n      <th>3</th>\n      <td>388</td>\n      <td>Ryotsu</td>\n      <td>JP</td>\n      <td>75.20</td>\n      <td>scattered clouds</td>\n      <td>38.08</td>\n      <td>138.43</td>\n      <td>Sadokamoko Onsen Kohanno Yado Yoshidaya</td>\n    </tr>\n  </tbody>\n</table>\n</div>"
     },
     "metadata": {},
     "execution_count": 39
    }
   ],
   "source": [
    "# 8. To create a marker layer map between the four cities.\n",
    "#  Combine the four city DataFrames into one DataFrame using the concat() function.\n",
    "itinerary_df = pd.concat([vacation_start,vacation_stop1,vacation_stop2,vacation_stop3],ignore_index=True)\n",
    "itinerary_df"
   ]
  },
  {
   "cell_type": "code",
   "execution_count": 40,
   "metadata": {},
   "outputs": [],
   "source": [
    "# 9 Using the template add city name, the country code, the weather description and maximum temperature for the city. \n",
    "info_box_template = \"\"\"\n",
    "<dl>\n",
    "<dt><b>City Name</b></dt><dt>{City}</dt>\n",
    "<dt><b>County Code</b></dt><dt>{Country}</dt>\n",
    "<dt><b>Weather Description</b></dt><dt>{Current Description}</dt>\n",
    "<dt><b>Max Temp</b></dt><dt>{Max Temp} F</dt>\n",
    "</dl>\n",
    "\"\"\"\n",
    "\n",
    "# 10a Get the data from each row and add it to the formatting template and store the data in a list.\n",
    "hotel_info = [info_box_template.format(**row) for index, row in itinerary_df.iterrows()]\n",
    "\n",
    "# 10b. Get the latitude and longitude from each row and store in a new DataFrame.\n",
    "locations = itinerary_df[[\"Lat\", \"Lng\"]]"
   ]
  },
  {
   "cell_type": "code",
   "execution_count": 41,
   "metadata": {},
   "outputs": [
    {
     "output_type": "display_data",
     "data": {
      "text/plain": "Figure(layout=FigureLayout(height=&#39;420px&#39;))",
      "application/vnd.jupyter.widget-view+json": {
       "version_major": 2,
       "version_minor": 0,
       "model_id": "aa2925bd305345529010f59bff4bcd38"
      }
     },
     "metadata": {}
    }
   ],
   "source": [
    "# 11a. Add a marker layer for each city to the map.\n",
    "fig = gmaps.figure()\n",
    "city_marker= gmaps.marker_layer(locations,info_box_content=hotel_info)\n",
    "fig.add_layer(city_marker)\n",
    "# 11b. Display the figure\n",
    "fig"
   ]
  },
  {
   "cell_type": "code",
   "execution_count": null,
   "metadata": {},
   "outputs": [],
   "source": []
  }
 ],
 "metadata": {
  "kernelspec": {
   "display_name": "PythonData",
   "language": "python",
   "name": "pythondata"
  },
  "language_info": {
   "codemirror_mode": {
    "name": "ipython",
    "version": 3
   },
   "file_extension": ".py",
   "mimetype": "text/x-python",
   "name": "python",
   "nbconvert_exporter": "python",
   "pygments_lexer": "ipython3",
   "version": "3.7.7-final"
  },
  "latex_envs": {
   "LaTeX_envs_menu_present": true,
   "autoclose": false,
   "autocomplete": true,
   "bibliofile": "biblio.bib",
   "cite_by": "apalike",
   "current_citInitial": 1,
   "eqLabelWithNumbers": true,
   "eqNumInitial": 1,
   "hotkeys": {
    "equation": "Ctrl-E",
    "itemize": "Ctrl-I"
   },
   "labels_anchors": false,
   "latex_user_defs": false,
   "report_style_numbering": false,
   "user_envs_cfg": false
  }
 },
 "nbformat": 4,
 "nbformat_minor": 2
}