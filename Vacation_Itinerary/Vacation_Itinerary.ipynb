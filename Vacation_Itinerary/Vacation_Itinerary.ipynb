{
 "cells": [
  {
   "cell_type": "markdown",
   "metadata": {},
   "source": [
    "## Deliverable 3. Create a Travel Itinerary Map."
   ]
  },
  {
   "cell_type": "code",
   "execution_count": 1,
   "metadata": {},
   "outputs": [],
   "source": [
    "# Dependencies and Setup\n",
    "import pandas as pd\n",
    "import requests\n",
    "import gmaps\n",
    "import gmaps.datasets\n",
    "import sys\n",
    "\n",
    "# Import API key\n",
    "sys.path.append('..')\n",
    "from config import g_key\n",
    "\n",
    "# Configure gmaps\n",
    "gmaps.configure(api_key=g_key)"
   ]
  },
  {
   "cell_type": "code",
   "execution_count": 2,
   "metadata": {},
   "outputs": [
    {
     "output_type": "execute_result",
     "data": {
      "text/plain": "   City_ID            City Country  Max Temp Current Description    Lat  \\\n0        8     Grand-Lahou      CI     75.61           clear sky   5.14   \n1        9  Saint-Philippe      RE     71.60     overcast clouds -21.36   \n2       11          Atuona      PF     78.40          few clouds  -9.80   \n3       18      Georgetown      MY     78.80          light rain   5.41   \n4       28            Payo      ID     72.86     overcast clouds  -3.75   \n\n      Lng                      Hotel Name  \n0   -5.02  Hotel Beatitude de Grand Lahou  \n1   55.77    Chambres d&#39;hôte &quot;La Trinité&quot;  \n2 -139.03                     Villa Enata  \n3  100.34                  Cititel Penang  \n4  103.64                Mess keban agung  ",
      "text/html": "<div>\n<style scoped>\n    .dataframe tbody tr th:only-of-type {\n        vertical-align: middle;\n    }\n\n    .dataframe tbody tr th {\n        vertical-align: top;\n    }\n\n    .dataframe thead th {\n        text-align: right;\n    }\n</style>\n<table border=\"1\" class=\"dataframe\">\n  <thead>\n    <tr style=\"text-align: right;\">\n      <th></th>\n      <th>City_ID</th>\n      <th>City</th>\n      <th>Country</th>\n      <th>Max Temp</th>\n      <th>Current Description</th>\n      <th>Lat</th>\n      <th>Lng</th>\n      <th>Hotel Name</th>\n    </tr>\n  </thead>\n  <tbody>\n    <tr>\n      <th>0</th>\n      <td>8</td>\n      <td>Grand-Lahou</td>\n      <td>CI</td>\n      <td>75.61</td>\n      <td>clear sky</td>\n      <td>5.14</td>\n      <td>-5.02</td>\n      <td>Hotel Beatitude de Grand Lahou</td>\n    </tr>\n    <tr>\n      <th>1</th>\n      <td>9</td>\n      <td>Saint-Philippe</td>\n      <td>RE</td>\n      <td>71.60</td>\n      <td>overcast clouds</td>\n      <td>-21.36</td>\n      <td>55.77</td>\n      <td>Chambres d'hôte \"La Trinité\"</td>\n    </tr>\n    <tr>\n      <th>2</th>\n      <td>11</td>\n      <td>Atuona</td>\n      <td>PF</td>\n      <td>78.40</td>\n      <td>few clouds</td>\n      <td>-9.80</td>\n      <td>-139.03</td>\n      <td>Villa Enata</td>\n    </tr>\n    <tr>\n      <th>3</th>\n      <td>18</td>\n      <td>Georgetown</td>\n      <td>MY</td>\n      <td>78.80</td>\n      <td>light rain</td>\n      <td>5.41</td>\n      <td>100.34</td>\n      <td>Cititel Penang</td>\n    </tr>\n    <tr>\n      <th>4</th>\n      <td>28</td>\n      <td>Payo</td>\n      <td>ID</td>\n      <td>72.86</td>\n      <td>overcast clouds</td>\n      <td>-3.75</td>\n      <td>103.64</td>\n      <td>Mess keban agung</td>\n    </tr>\n  </tbody>\n</table>\n</div>"
     },
     "metadata": {},
     "execution_count": 2
    }
   ],
   "source": [
    "# 1. Read the WeatherPy_vacation.csv into a DataFrame.\n",
    "vacation_df = pd.read_csv(\"../Vacation_Search/WeatherPy_vacation.csv\")\n",
    "vacation_df.head()"
   ]
  },
  {
   "cell_type": "code",
   "execution_count": 3,
   "metadata": {},
   "outputs": [],
   "source": [
    "# 2. Using the template add the city name, the country code, the weather description and maximum temperature for the city.\n",
    "info_box_template = \"\"\"\n",
    "<dl>\n",
    "<dt><b>City Name</b></dt><dt>{City}</dt>\n",
    "<dt><b>County Code</b></dt><dt>{Country}</dt>\n",
    "<dt><b>Weather Description</b></dt><dt>{Current Description}</dt>\n",
    "<dt><b>Max Temp</b></dt><dt>{Max Temp} F</dt>\n",
    "</dl>\n",
    "\"\"\"\n",
    "\n",
    "# 3a. Get the data from each row and add it to the formatting template and store the data in a list.\n",
    "hotel_info = [info_box_template.format(**row) for index, row in vacation_df.iterrows()]\n",
    "\n",
    "# 3b. Get the latitude and longitude from each row and store in a new DataFrame.\n",
    "locations = vacation_df[[\"Lat\", \"Lng\"]]"
   ]
  },
  {
   "cell_type": "code",
   "execution_count": 4,
   "metadata": {},
   "outputs": [
    {
     "output_type": "display_data",
     "data": {
      "text/plain": "Figure(layout=FigureLayout(height=&#39;420px&#39;))",
      "application/vnd.jupyter.widget-view+json": {
       "version_major": 2,
       "version_minor": 0,
       "model_id": "bfdca34b20c2460da349b62fae0723ff"
      }
     },
     "metadata": {}
    }
   ],
   "source": [
    "# 4a. Add a marker layer for each city to the map.\n",
    "max_temp = vacation_df['Max Temp']\n",
    "fig = gmaps.figure(center=(30.0, 31.0), zoom_level=1.5)\n",
    "heat_layer = gmaps.heatmap_layer(locations,weights=max_temp,max_intensity=300,dissipating=False, point_radius=4)\n",
    "marker_layer =  gmaps.marker_layer(locations,info_box_content=hotel_info)\n",
    "fig.add_layer(heat_layer)\n",
    "fig.add_layer(marker_layer)\n",
    "# 4b. Display the figure\n",
    "fig\n"
   ]
  },
  {
   "cell_type": "code",
   "execution_count": 5,
   "metadata": {},
   "outputs": [],
   "source": [
    "# From the map above pick 4 cities and create a vacation itinerary route to travel between the four cities. \n",
    "# 5. Create DataFrames for each city by filtering the 'vacation_df' using the loc method. \n",
    "\n",
    "vacation_start = vacation_df.loc[vacation_df['City']=='Olinda']\n",
    "vacation_end = vacation_df.loc[vacation_df['City']=='Olinda']\n",
    "vacation_stop1 = vacation_df.loc[vacation_df['City']=='Maragogi']\n",
    "vacation_stop2 = vacation_df.loc[vacation_df['City']=='Maceio'] \n",
    "vacation_stop3 = vacation_df.loc[vacation_df['City']=='Pilar'] "
   ]
  },
  {
   "cell_type": "code",
   "execution_count": 6,
   "metadata": {},
   "outputs": [],
   "source": [
    "# 6. Get the latitude-longitude pairs as tuples from each city DataFrame using the to_numpy function and list indexing.\n",
    "start = tuple(vacation_start.to_numpy()[0][5:7])\n",
    "end = tuple(vacation_end.to_numpy()[0][5:7])\n",
    "stop1 = tuple(vacation_stop1.to_numpy()[0][5:7])\n",
    "stop2 = tuple(vacation_stop2.to_numpy()[0][5:7])\n",
    "stop3 = tuple(vacation_stop3.to_numpy()[0][5:7])"
   ]
  },
  {
   "cell_type": "code",
   "execution_count": 7,
   "metadata": {
    "scrolled": true
   },
   "outputs": [
    {
     "output_type": "display_data",
     "data": {
      "text/plain": "Figure(layout=FigureLayout(height=&#39;420px&#39;))",
      "application/vnd.jupyter.widget-view+json": {
       "version_major": 2,
       "version_minor": 0,
       "model_id": "42b3ab0e35c048caaf3c9556298fa1e9"
      }
     },
     "metadata": {}
    }
   ],
   "source": [
    "# 7. Create a direction layer map using the start and end latitude-longitude pairs,\n",
    "# and stop1, stop2, and stop3 as the waypoints. The travel_mode should be \"DRIVING\", \"BICYCLING\", or \"WALKING\" depending how close the cities are.\n",
    "fig = gmaps.figure()\n",
    "japan_trip = gmaps.directions_layer(start,end,waypoints=[stop1,stop2, stop3],travel_mode='DRIVING')\n",
    "fig.add_layer(japan_trip)\n",
    "fig\n"
   ]
  },
  {
   "cell_type": "code",
   "execution_count": 8,
   "metadata": {},
   "outputs": [
    {
     "output_type": "execute_result",
     "data": {
      "text/plain": "   City_ID      City Country  Max Temp Current Description   Lat    Lng  \\\n0      428    Olinda      BR     78.80    scattered clouds -8.01 -34.86   \n1      150  Maragogi      BR     75.42     overcast clouds -9.01 -35.22   \n2       38    Maceio      BR     77.00          few clouds -9.67 -35.74   \n3      369     Pilar      BR     77.00          few clouds -9.60 -35.96   \n\n                                 Hotel Name  \n0                              Hotel 5 Sóis  \n1  Salinas do Maragogi All Inclusive Resort  \n2             Mercure Maceio Pajucara Hotel  \n3           Pousada e churrascaria Manguaba  ",
      "text/html": "<div>\n<style scoped>\n    .dataframe tbody tr th:only-of-type {\n        vertical-align: middle;\n    }\n\n    .dataframe tbody tr th {\n        vertical-align: top;\n    }\n\n    .dataframe thead th {\n        text-align: right;\n    }\n</style>\n<table border=\"1\" class=\"dataframe\">\n  <thead>\n    <tr style=\"text-align: right;\">\n      <th></th>\n      <th>City_ID</th>\n      <th>City</th>\n      <th>Country</th>\n      <th>Max Temp</th>\n      <th>Current Description</th>\n      <th>Lat</th>\n      <th>Lng</th>\n      <th>Hotel Name</th>\n    </tr>\n  </thead>\n  <tbody>\n    <tr>\n      <th>0</th>\n      <td>428</td>\n      <td>Olinda</td>\n      <td>BR</td>\n      <td>78.80</td>\n      <td>scattered clouds</td>\n      <td>-8.01</td>\n      <td>-34.86</td>\n      <td>Hotel 5 Sóis</td>\n    </tr>\n    <tr>\n      <th>1</th>\n      <td>150</td>\n      <td>Maragogi</td>\n      <td>BR</td>\n      <td>75.42</td>\n      <td>overcast clouds</td>\n      <td>-9.01</td>\n      <td>-35.22</td>\n      <td>Salinas do Maragogi All Inclusive Resort</td>\n    </tr>\n    <tr>\n      <th>2</th>\n      <td>38</td>\n      <td>Maceio</td>\n      <td>BR</td>\n      <td>77.00</td>\n      <td>few clouds</td>\n      <td>-9.67</td>\n      <td>-35.74</td>\n      <td>Mercure Maceio Pajucara Hotel</td>\n    </tr>\n    <tr>\n      <th>3</th>\n      <td>369</td>\n      <td>Pilar</td>\n      <td>BR</td>\n      <td>77.00</td>\n      <td>few clouds</td>\n      <td>-9.60</td>\n      <td>-35.96</td>\n      <td>Pousada e churrascaria Manguaba</td>\n    </tr>\n  </tbody>\n</table>\n</div>"
     },
     "metadata": {},
     "execution_count": 8
    }
   ],
   "source": [
    "# 8. To create a marker layer map between the four cities.\n",
    "#  Combine the four city DataFrames into one DataFrame using the concat() function.\n",
    "itinerary_df = pd.concat([vacation_start,vacation_stop1,vacation_stop2,vacation_stop3],ignore_index=True)\n",
    "itinerary_df"
   ]
  },
  {
   "cell_type": "code",
   "execution_count": 9,
   "metadata": {},
   "outputs": [],
   "source": [
    "# 9 Using the template add city name, the country code, the weather description and maximum temperature for the city. \n",
    "info_box_template = \"\"\"\n",
    "<dl>\n",
    "<dt><b>City Name</b></dt><dt>{City}</dt>\n",
    "<dt><b>County Code</b></dt><dt>{Country}</dt>\n",
    "<dt><b>Weather Description</b></dt><dt>{Current Description}</dt>\n",
    "<dt><b>Max Temp</b></dt><dt>{Max Temp} F</dt>\n",
    "</dl>\n",
    "\"\"\"\n",
    "\n",
    "# 10a Get the data from each row and add it to the formatting template and store the data in a list.\n",
    "hotel_info = [info_box_template.format(**row) for index, row in itinerary_df.iterrows()]\n",
    "\n",
    "# 10b. Get the latitude and longitude from each row and store in a new DataFrame.\n",
    "locations = itinerary_df[[\"Lat\", \"Lng\"]]"
   ]
  },
  {
   "cell_type": "code",
   "execution_count": 10,
   "metadata": {},
   "outputs": [
    {
     "output_type": "display_data",
     "data": {
      "text/plain": "Figure(layout=FigureLayout(height=&#39;420px&#39;))",
      "application/vnd.jupyter.widget-view+json": {
       "version_major": 2,
       "version_minor": 0,
       "model_id": "9f2f45fa5df74ca28d0e181e2b645239"
      }
     },
     "metadata": {}
    }
   ],
   "source": [
    "# 11a. Add a marker layer for each city to the map.\n",
    "fig = gmaps.figure()\n",
    "city_marker= gmaps.marker_layer(locations,info_box_content=hotel_info)\n",
    "fig.add_layer(city_marker)\n",
    "# 11b. Display the figure\n",
    "fig"
   ]
  },
  {
   "cell_type": "code",
   "execution_count": null,
   "metadata": {},
   "outputs": [],
   "source": []
  }
 ],
 "metadata": {
  "kernelspec": {
   "display_name": "PythonData",
   "language": "python",
   "name": "pythondata"
  },
  "language_info": {
   "codemirror_mode": {
    "name": "ipython",
    "version": 3
   },
   "file_extension": ".py",
   "mimetype": "text/x-python",
   "name": "python",
   "nbconvert_exporter": "python",
   "pygments_lexer": "ipython3",
   "version": "3.7.7-final"
  },
  "latex_envs": {
   "LaTeX_envs_menu_present": true,
   "autoclose": false,
   "autocomplete": true,
   "bibliofile": "biblio.bib",
   "cite_by": "apalike",
   "current_citInitial": 1,
   "eqLabelWithNumbers": true,
   "eqNumInitial": 1,
   "hotkeys": {
    "equation": "Ctrl-E",
    "itemize": "Ctrl-I"
   },
   "labels_anchors": false,
   "latex_user_defs": false,
   "report_style_numbering": false,
   "user_envs_cfg": false
  }
 },
 "nbformat": 4,
 "nbformat_minor": 2
}