{
 "cells": [
  {
   "cell_type": "code",
   "execution_count": 44,
   "metadata": {},
   "outputs": [],
   "source": [
    "#Import the dependencies\n",
    "import pandas as pd\n",
    "import gmaps\n",
    "import requests\n",
    "from config import g_key"
   ]
  },
  {
   "cell_type": "code",
   "execution_count": 45,
   "metadata": {},
   "outputs": [
    {
     "data": {
      "text/html": [
       "<div>\n",
       "<style scoped>\n",
       "    .dataframe tbody tr th:only-of-type {\n",
       "        vertical-align: middle;\n",
       "    }\n",
       "\n",
       "    .dataframe tbody tr th {\n",
       "        vertical-align: top;\n",
       "    }\n",
       "\n",
       "    .dataframe thead th {\n",
       "        text-align: right;\n",
       "    }\n",
       "</style>\n",
       "<table border=\"1\" class=\"dataframe\">\n",
       "  <thead>\n",
       "    <tr style=\"text-align: right;\">\n",
       "      <th></th>\n",
       "      <th>City_ID</th>\n",
       "      <th>City</th>\n",
       "      <th>Country</th>\n",
       "      <th>Date</th>\n",
       "      <th>Lat</th>\n",
       "      <th>Lng</th>\n",
       "      <th>Max Temp</th>\n",
       "      <th>Humidity</th>\n",
       "      <th>Cloudiness</th>\n",
       "      <th>Wind Speed</th>\n",
       "    </tr>\n",
       "  </thead>\n",
       "  <tbody>\n",
       "    <tr>\n",
       "      <th>0</th>\n",
       "      <td>0</td>\n",
       "      <td>New Norfolk</td>\n",
       "      <td>AU</td>\n",
       "      <td>2020-09-28 04:03:10</td>\n",
       "      <td>-42.78</td>\n",
       "      <td>147.06</td>\n",
       "      <td>59.00</td>\n",
       "      <td>58</td>\n",
       "      <td>20</td>\n",
       "      <td>16.11</td>\n",
       "    </tr>\n",
       "    <tr>\n",
       "      <th>1</th>\n",
       "      <td>1</td>\n",
       "      <td>Marawi</td>\n",
       "      <td>PH</td>\n",
       "      <td>2020-09-28 04:07:33</td>\n",
       "      <td>8.00</td>\n",
       "      <td>124.29</td>\n",
       "      <td>84.99</td>\n",
       "      <td>76</td>\n",
       "      <td>97</td>\n",
       "      <td>4.00</td>\n",
       "    </tr>\n",
       "    <tr>\n",
       "      <th>2</th>\n",
       "      <td>2</td>\n",
       "      <td>Broken Hill</td>\n",
       "      <td>AU</td>\n",
       "      <td>2020-09-28 04:07:34</td>\n",
       "      <td>-31.95</td>\n",
       "      <td>141.43</td>\n",
       "      <td>64.40</td>\n",
       "      <td>34</td>\n",
       "      <td>43</td>\n",
       "      <td>10.29</td>\n",
       "    </tr>\n",
       "    <tr>\n",
       "      <th>3</th>\n",
       "      <td>3</td>\n",
       "      <td>East London</td>\n",
       "      <td>ZA</td>\n",
       "      <td>2020-09-28 04:07:34</td>\n",
       "      <td>-33.02</td>\n",
       "      <td>27.91</td>\n",
       "      <td>48.20</td>\n",
       "      <td>81</td>\n",
       "      <td>1</td>\n",
       "      <td>6.93</td>\n",
       "    </tr>\n",
       "    <tr>\n",
       "      <th>4</th>\n",
       "      <td>4</td>\n",
       "      <td>Butaritari</td>\n",
       "      <td>KI</td>\n",
       "      <td>2020-09-28 04:07:35</td>\n",
       "      <td>3.07</td>\n",
       "      <td>172.79</td>\n",
       "      <td>81.70</td>\n",
       "      <td>79</td>\n",
       "      <td>1</td>\n",
       "      <td>15.46</td>\n",
       "    </tr>\n",
       "    <tr>\n",
       "      <th>5</th>\n",
       "      <td>5</td>\n",
       "      <td>Castro</td>\n",
       "      <td>BR</td>\n",
       "      <td>2020-09-28 04:07:36</td>\n",
       "      <td>-24.79</td>\n",
       "      <td>-50.01</td>\n",
       "      <td>63.86</td>\n",
       "      <td>81</td>\n",
       "      <td>100</td>\n",
       "      <td>5.10</td>\n",
       "    </tr>\n",
       "    <tr>\n",
       "      <th>6</th>\n",
       "      <td>6</td>\n",
       "      <td>Indianola</td>\n",
       "      <td>US</td>\n",
       "      <td>2020-09-28 04:07:36</td>\n",
       "      <td>41.36</td>\n",
       "      <td>-93.56</td>\n",
       "      <td>53.01</td>\n",
       "      <td>92</td>\n",
       "      <td>89</td>\n",
       "      <td>8.48</td>\n",
       "    </tr>\n",
       "    <tr>\n",
       "      <th>7</th>\n",
       "      <td>7</td>\n",
       "      <td>Jamestown</td>\n",
       "      <td>US</td>\n",
       "      <td>2020-09-28 04:05:08</td>\n",
       "      <td>42.10</td>\n",
       "      <td>-79.24</td>\n",
       "      <td>64.40</td>\n",
       "      <td>77</td>\n",
       "      <td>1</td>\n",
       "      <td>8.05</td>\n",
       "    </tr>\n",
       "    <tr>\n",
       "      <th>8</th>\n",
       "      <td>8</td>\n",
       "      <td>Barrow</td>\n",
       "      <td>US</td>\n",
       "      <td>2020-09-28 04:07:37</td>\n",
       "      <td>71.29</td>\n",
       "      <td>-156.79</td>\n",
       "      <td>32.00</td>\n",
       "      <td>96</td>\n",
       "      <td>90</td>\n",
       "      <td>10.29</td>\n",
       "    </tr>\n",
       "    <tr>\n",
       "      <th>9</th>\n",
       "      <td>9</td>\n",
       "      <td>Dwarka</td>\n",
       "      <td>IN</td>\n",
       "      <td>2020-09-28 04:05:29</td>\n",
       "      <td>22.24</td>\n",
       "      <td>68.97</td>\n",
       "      <td>83.08</td>\n",
       "      <td>61</td>\n",
       "      <td>18</td>\n",
       "      <td>6.71</td>\n",
       "    </tr>\n",
       "  </tbody>\n",
       "</table>\n",
       "</div>"
      ],
      "text/plain": [
       "   City_ID         City Country                 Date    Lat     Lng  Max Temp  \\\n",
       "0        0  New Norfolk      AU  2020-09-28 04:03:10 -42.78  147.06     59.00   \n",
       "1        1       Marawi      PH  2020-09-28 04:07:33   8.00  124.29     84.99   \n",
       "2        2  Broken Hill      AU  2020-09-28 04:07:34 -31.95  141.43     64.40   \n",
       "3        3  East London      ZA  2020-09-28 04:07:34 -33.02   27.91     48.20   \n",
       "4        4   Butaritari      KI  2020-09-28 04:07:35   3.07  172.79     81.70   \n",
       "5        5       Castro      BR  2020-09-28 04:07:36 -24.79  -50.01     63.86   \n",
       "6        6    Indianola      US  2020-09-28 04:07:36  41.36  -93.56     53.01   \n",
       "7        7    Jamestown      US  2020-09-28 04:05:08  42.10  -79.24     64.40   \n",
       "8        8       Barrow      US  2020-09-28 04:07:37  71.29 -156.79     32.00   \n",
       "9        9       Dwarka      IN  2020-09-28 04:05:29  22.24   68.97     83.08   \n",
       "\n",
       "   Humidity  Cloudiness  Wind Speed  \n",
       "0        58          20       16.11  \n",
       "1        76          97        4.00  \n",
       "2        34          43       10.29  \n",
       "3        81           1        6.93  \n",
       "4        79           1       15.46  \n",
       "5        81         100        5.10  \n",
       "6        92          89        8.48  \n",
       "7        77           1        8.05  \n",
       "8        96          90       10.29  \n",
       "9        61          18        6.71  "
      ]
     },
     "execution_count": 45,
     "metadata": {},
     "output_type": "execute_result"
    }
   ],
   "source": [
    "# Store the CSV you saved created in part one into a DataFrame.\n",
    "city_data_df = pd.read_csv('weather_data/cities.csv')\n",
    "city_data_df.head(10)"
   ]
  },
  {
   "cell_type": "code",
   "execution_count": 46,
   "metadata": {},
   "outputs": [
    {
     "data": {
      "text/plain": [
       "City_ID         int64\n",
       "City           object\n",
       "Country        object\n",
       "Date           object\n",
       "Lat           float64\n",
       "Lng           float64\n",
       "Max Temp      float64\n",
       "Humidity        int64\n",
       "Cloudiness      int64\n",
       "Wind Speed    float64\n",
       "dtype: object"
      ]
     },
     "execution_count": 46,
     "metadata": {},
     "output_type": "execute_result"
    }
   ],
   "source": [
    "city_data_df.dtypes"
   ]
  },
  {
   "cell_type": "code",
   "execution_count": 47,
   "metadata": {},
   "outputs": [],
   "source": [
    "# Configure gmaps to use your Google API key.\n",
    "gmaps.configure(api_key = g_key)"
   ]
  },
  {
   "cell_type": "code",
   "execution_count": 48,
   "metadata": {},
   "outputs": [
    {
     "data": {
      "application/vnd.jupyter.widget-view+json": {
       "model_id": "ffe8e253fd26408e8f2d7bd8cdccc76e",
       "version_major": 2,
       "version_minor": 0
      },
      "text/plain": [
       "Figure(layout=FigureLayout(height='420px'))"
      ]
     },
     "metadata": {},
     "output_type": "display_data"
    }
   ],
   "source": [
    "# Heatmap of temperature\n",
    "# Get the latitude and longitude.\n",
    "locations = city_data_df[['Lat', 'Lng']]\n",
    "#Get the maximum temperature\n",
    "max_temp = city_data_df['Max Temp']\n",
    "# Assign the figure variable\n",
    "fig = gmaps.figure(center=(30.0, 31.0), zoom_level=1.5)\n",
    "# Assign the heatmap variable.\n",
    "heat_layer = gmaps.heatmap_layer(locations, weights=max_temp, dissipating =False, max_intensity=300, point_radius=2.5)\n",
    "# Add the heatmap layer\n",
    "fig.add_layer(heat_layer)\n",
    "# Call the figure to plot the data \n",
    "fig"
   ]
  },
  {
   "cell_type": "code",
   "execution_count": 49,
   "metadata": {},
   "outputs": [
    {
     "data": {
      "application/vnd.jupyter.widget-view+json": {
       "model_id": "ffe8e253fd26408e8f2d7bd8cdccc76e",
       "version_major": 2,
       "version_minor": 0
      },
      "text/plain": [
       "Figure(layout=FigureLayout(height='420px'))"
      ]
     },
     "metadata": {},
     "output_type": "display_data"
    }
   ],
   "source": [
    "# Heatmap of humidity\n",
    "# Get the humidity\n",
    "\n",
    "humidity = city_data_df['Humidity']\n",
    "# Assign the figure variable\n",
    "figs = gmaps.figure(center =(30.0, 31.0), zoom_level=1.5)\n",
    "# Assign the heatmap variable.\n",
    "heat_layer = gmaps.heatmap_layer(locations, weights =humidity,dissipating =False, max_intensity =300, point_radius =2.5)\n",
    "# Add the heatmap layer\n",
    "fig.add_layer(heat_layer)\n",
    "#Call the figure\n",
    "fig"
   ]
  },
  {
   "cell_type": "code",
   "execution_count": 50,
   "metadata": {},
   "outputs": [
    {
     "data": {
      "application/vnd.jupyter.widget-view+json": {
       "model_id": "ffe8e253fd26408e8f2d7bd8cdccc76e",
       "version_major": 2,
       "version_minor": 0
      },
      "text/plain": [
       "Figure(layout=FigureLayout(height='420px'))"
      ]
     },
     "metadata": {},
     "output_type": "display_data"
    }
   ],
   "source": [
    "# Heatmap of cloudiness\n",
    "# Get the cloudiness\n",
    "clouds = city_data_df['Cloudiness']\n",
    "# Assign the figure variable\n",
    "figs = gmaps.figure(center =(30.0, 31.0), zoom_level=1.5)\n",
    "# Assign the heatmap variable.\n",
    "heat_layer = gmaps.heatmap_layer(locations, weights =clouds,dissipating =False, max_intensity =300, point_radius =1)\n",
    "# Add the heatmap layer\n",
    "fig.add_layer(heat_layer)\n",
    "#Call the figure\n",
    "fig"
   ]
  },
  {
   "cell_type": "code",
   "execution_count": 51,
   "metadata": {},
   "outputs": [
    {
     "data": {
      "application/vnd.jupyter.widget-view+json": {
       "model_id": "ffe8e253fd26408e8f2d7bd8cdccc76e",
       "version_major": 2,
       "version_minor": 0
      },
      "text/plain": [
       "Figure(layout=FigureLayout(height='420px'))"
      ]
     },
     "metadata": {},
     "output_type": "display_data"
    }
   ],
   "source": [
    "# Heatmap of Wind speed\n",
    "# Get the wind speed\n",
    "wind = city_data_df['Wind Speed']\n",
    "# Assign the figure variable\n",
    "figs = gmaps.figure(center =(30.0, 31.0), zoom_level=1.5)\n",
    "# Assign the heatmap variable.\n",
    "heat_layer = gmaps.heatmap_layer(locations, weights =wind,dissipating =False, max_intensity =300, point_radius =1)\n",
    "# Add the heatmap layer\n",
    "fig.add_layer(heat_layer)\n",
    "#Call the figure\n",
    "fig"
   ]
  },
  {
   "cell_type": "code",
   "execution_count": 52,
   "metadata": {},
   "outputs": [
    {
     "name": "stdout",
     "output_type": "stream",
     "text": [
      "What is the minimum temperature you would like for your trip?60\n",
      "What is the maximum temperature you would like for your trip?65\n"
     ]
    }
   ],
   "source": [
    "# Ask the customer to add a minimum and maximum temperature value.\n",
    "min_temp = float(input('What is the minimum temperature you would like for your trip?'))\n",
    "max_temp = float(input('What is the maximum temperature you would like for your trip?'))"
   ]
  },
  {
   "cell_type": "code",
   "execution_count": 53,
   "metadata": {},
   "outputs": [],
   "source": [
    "preffered_cities_df = city_data_df.loc[(city_data_df['Max Temp'] > min_temp)& (city_data_df['Max Temp']<max_temp)]"
   ]
  },
  {
   "cell_type": "code",
   "execution_count": 54,
   "metadata": {},
   "outputs": [
    {
     "data": {
      "text/plain": [
       "(49, 10)"
      ]
     },
     "execution_count": 54,
     "metadata": {},
     "output_type": "execute_result"
    }
   ],
   "source": [
    "preffered_cities_df = preffered_cities_df.dropna()\n",
    "preffered_cities_df.shape"
   ]
  },
  {
   "cell_type": "code",
   "execution_count": 55,
   "metadata": {},
   "outputs": [
    {
     "data": {
      "text/html": [
       "<div>\n",
       "<style scoped>\n",
       "    .dataframe tbody tr th:only-of-type {\n",
       "        vertical-align: middle;\n",
       "    }\n",
       "\n",
       "    .dataframe tbody tr th {\n",
       "        vertical-align: top;\n",
       "    }\n",
       "\n",
       "    .dataframe thead th {\n",
       "        text-align: right;\n",
       "    }\n",
       "</style>\n",
       "<table border=\"1\" class=\"dataframe\">\n",
       "  <thead>\n",
       "    <tr style=\"text-align: right;\">\n",
       "      <th></th>\n",
       "      <th>City</th>\n",
       "      <th>Country</th>\n",
       "      <th>Max Temp</th>\n",
       "      <th>Lat</th>\n",
       "      <th>Lng</th>\n",
       "      <th>Hotel Name</th>\n",
       "    </tr>\n",
       "  </thead>\n",
       "  <tbody>\n",
       "    <tr>\n",
       "      <th>2</th>\n",
       "      <td>Broken Hill</td>\n",
       "      <td>AU</td>\n",
       "      <td>64.40</td>\n",
       "      <td>-31.95</td>\n",
       "      <td>141.43</td>\n",
       "      <td></td>\n",
       "    </tr>\n",
       "    <tr>\n",
       "      <th>5</th>\n",
       "      <td>Castro</td>\n",
       "      <td>BR</td>\n",
       "      <td>63.86</td>\n",
       "      <td>-24.79</td>\n",
       "      <td>-50.01</td>\n",
       "      <td></td>\n",
       "    </tr>\n",
       "    <tr>\n",
       "      <th>7</th>\n",
       "      <td>Jamestown</td>\n",
       "      <td>US</td>\n",
       "      <td>64.40</td>\n",
       "      <td>42.10</td>\n",
       "      <td>-79.24</td>\n",
       "      <td></td>\n",
       "    </tr>\n",
       "    <tr>\n",
       "      <th>12</th>\n",
       "      <td>Karacakoy</td>\n",
       "      <td>TR</td>\n",
       "      <td>64.00</td>\n",
       "      <td>41.40</td>\n",
       "      <td>28.38</td>\n",
       "      <td></td>\n",
       "    </tr>\n",
       "    <tr>\n",
       "      <th>13</th>\n",
       "      <td>Colares</td>\n",
       "      <td>PT</td>\n",
       "      <td>62.01</td>\n",
       "      <td>38.80</td>\n",
       "      <td>-9.45</td>\n",
       "      <td></td>\n",
       "    </tr>\n",
       "  </tbody>\n",
       "</table>\n",
       "</div>"
      ],
      "text/plain": [
       "           City Country  Max Temp    Lat     Lng Hotel Name\n",
       "2   Broken Hill      AU     64.40 -31.95  141.43           \n",
       "5        Castro      BR     63.86 -24.79  -50.01           \n",
       "7     Jamestown      US     64.40  42.10  -79.24           \n",
       "12    Karacakoy      TR     64.00  41.40   28.38           \n",
       "13      Colares      PT     62.01  38.80   -9.45           "
      ]
     },
     "execution_count": 55,
     "metadata": {},
     "output_type": "execute_result"
    }
   ],
   "source": [
    "hotel_df = preffered_cities_df[[\"City\", \"Country\", \"Max Temp\", \"Lat\", \"Lng\"]].copy()\n",
    "hotel_df['Hotel Name'] = ''\n",
    "hotel_df.head()"
   ]
  },
  {
   "cell_type": "code",
   "execution_count": 56,
   "metadata": {},
   "outputs": [],
   "source": [
    "# Set parameters to search for a hotel.\n",
    "params = {\n",
    "    'radius':5000,\n",
    "    'type':'lodging',\n",
    "    'key':g_key,\n",
    "    'location':''\n",
    "    \n",
    "}"
   ]
  },
  {
   "cell_type": "code",
   "execution_count": 57,
   "metadata": {},
   "outputs": [
    {
     "name": "stdout",
     "output_type": "stream",
     "text": [
      "Hotel name not found...skipping.\n",
      "Hotel name not found...skipping.\n",
      "Hotel name not found...skipping.\n",
      "Hotel name not found...skipping.\n"
     ]
    }
   ],
   "source": [
    "# Iterate through the DataFrame.\n",
    "for index, row in hotel_df.iterrows():\n",
    "    # Get the latitude and longitude.\n",
    "    lat = row['Lat']\n",
    "    lng = row['Lng']\n",
    "    # Add the latitude and longitude to location key for the params dictionary.\n",
    "    params['location'] = f'{lat},{lng}'\n",
    "    # Use the search term: \"lodging\" and our latitude and longitude.\n",
    "    base_url = \"https://maps.googleapis.com/maps/api/place/nearbysearch/json\"\n",
    "    hotels = requests.get(base_url, params=params).json()\n",
    "    # Grab the first hotel from the results and store the name.\n",
    "    try:\n",
    "        hotel_df.loc[index,'Hotel Name'] = hotels['results'][0]['name']\n",
    "    except (IndexError):\n",
    "        print('Hotel name not found...skipping.')"
   ]
  },
  {
   "cell_type": "code",
   "execution_count": null,
   "metadata": {},
   "outputs": [],
   "source": [
    "info_box_template =\"\"\"\n",
    "<dl>\n",
    "<dt>Hotel Name</dt><dd>{Hotel Name}</dd>\n",
    "<dt>City</dt><dd>{City}</dd>\n",
    "<dt>Country</dt><dd>{Country}</dd>\n",
    "<dt>Max Temp</dt><dd>{Max Temp} °F</dd>\n",
    "</dl>\n",
    "\"\"\""
   ]
  },
  {
   "cell_type": "code",
   "execution_count": null,
   "metadata": {},
   "outputs": [],
   "source": [
    "# Store the DataFrame Row.\n",
    "hotel_info = [info_box_template.format(**row) for index, row in hotel_df.iterrows()]"
   ]
  },
  {
   "cell_type": "code",
   "execution_count": 68,
   "metadata": {},
   "outputs": [
    {
     "data": {
      "application/vnd.jupyter.widget-view+json": {
       "model_id": "ce672491aa724377a1656b1005f32b18",
       "version_major": 2,
       "version_minor": 0
      },
      "text/plain": [
       "Figure(layout=FigureLayout(height='420px'))"
      ]
     },
     "metadata": {},
     "output_type": "display_data"
    }
   ],
   "source": [
    "# Add a heatmap of temperature for the vacation spots.\n",
    "locations = hotel_df[[\"Lat\", \"Lng\"]]\n",
    "max_temp = hotel_df[\"Max Temp\"]\n",
    "fig = gmaps.figure(center=(30.0, 31.0), zoom_level=1.5)\n",
    "heat_layer = gmaps.heatmap_layer(locations, weights=max_temp, dissipating=False,\n",
    "             max_intensity=300, point_radius=4)\n",
    "marker_layer = gmaps.marker_layer(locations,info_box_content=hotel_info)\n",
    "fig.add_layer(heat_layer)\n",
    "fig.add_layer(marker_layer)\n",
    "# Call the figure to plot the data.\n",
    "fig"
   ]
  }
 ],
 "metadata": {
  "kernelspec": {
   "display_name": "PythonData",
   "language": "python",
   "name": "pythondata"
  },
  "language_info": {
   "codemirror_mode": {
    "name": "ipython",
    "version": 3
   },
   "file_extension": ".py",
   "mimetype": "text/x-python",
   "name": "python",
   "nbconvert_exporter": "python",
   "pygments_lexer": "ipython3",
   "version": "3.7.7"
  }
 },
 "nbformat": 4,
 "nbformat_minor": 4
}
