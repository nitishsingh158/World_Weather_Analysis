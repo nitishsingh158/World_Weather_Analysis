{
 "cells": [
  {
   "cell_type": "code",
   "execution_count": null,
   "metadata": {},
   "outputs": [],
   "source": [
    "# Import the dependencies.\n",
    "import pandas as pd\n",
    "import matplotlib.pyplot as plt\n",
    "import numpy as np\n",
    "from citipy import citipy\n",
    "import requests\n",
    "from config import weather_api_keys\n",
    "from datetime import datetime\n",
    "from scipy.stats import linregress"
   ]
  },
  {
   "cell_type": "code",
   "execution_count": null,
   "metadata": {},
   "outputs": [],
   "source": [
    "# Create a set of random latitude and longitude combinations.\n",
    "lats = np.random.uniform(-90.000, 90.000, 1500)\n",
    "lngs = np.random.uniform(-180.000, 180.000, 1500)\n",
    "lats_lngs = zip(lats,lngs)"
   ]
  },
  {
   "cell_type": "code",
   "execution_count": null,
   "metadata": {},
   "outputs": [],
   "source": [
    "# Add the latitudes and longitudes to a list.\n",
    "coordinates = list(lats_lngs)"
   ]
  },
  {
   "cell_type": "code",
   "execution_count": null,
   "metadata": {},
   "outputs": [],
   "source": [
    "# Create a list for holding the cities.\n",
    "cities = []\n",
    "for coordinate in coordinates:\n",
    "    city = citipy.nearest_city(coordinate[0],coordinate[1]).city_name\n",
    "    \n",
    "    # If the city is unique, then we will add it to the cities list.\n",
    "    if city not in cities:\n",
    "        cities.append(city)\n",
    "        \n",
    "# Print the city count to confirm sufficient count.\n",
    "print(f'The number of cities found: {len(cities)}.')\n",
    "    "
   ]
  },
  {
   "cell_type": "code",
   "execution_count": null,
   "metadata": {},
   "outputs": [],
   "source": [
    "# Create an empty list to hold the weather data.\n",
    "url = \"https://api.openweathermap.org/data/2.5/weather?units=Imperial&APPID=\" + weather_api_keys\n",
    "city_data =[]\n",
    "# Print the beginning of the logging.\n",
    "print(\"Beginning Data Retrieval     \\n\")\n",
    "print(\"-----------------------------\")\n",
    "\n",
    "# Create counters.\n",
    "record_count = 1\n",
    "set_count = 1\n",
    "\n",
    "# Loop through all the cities in our list.\n",
    "for i, city in enumerate(cities):\n",
    "    #Group cities in sets of 50 for loggin purposes.\n",
    "    if (i%50==0 and i>=50):\n",
    "        set_count+=1\n",
    "        record_count =1\n",
    "# Create endpoint URL with each city.\n",
    "    city_url = url + \"&q=\" + city.replace(' ','+')\n",
    "    # Log the URL, record, and set numbers and the city.\n",
    "    print(f\"Processing Record {record_count} of Set {set_count} | {city}\")\n",
    "    # Add 1 to the record count.\n",
    "    record_count += 1\n",
    "    try:\n",
    "         # Parse the JSON and retrieve data.\n",
    "        city_weather = requests.get(city_url).json()\n",
    "        # Parse out the needed data.\n",
    "        city_lat = city_weather[\"coord\"][\"lat\"]\n",
    "        city_lng = city_weather[\"coord\"][\"lon\"]\n",
    "        city_max_temp = city_weather[\"main\"][\"temp_max\"]\n",
    "        city_humidity = city_weather[\"main\"][\"humidity\"]\n",
    "        city_clouds = city_weather[\"clouds\"][\"all\"]\n",
    "        city_wind = city_weather[\"wind\"][\"speed\"]\n",
    "        city_country = city_weather[\"sys\"][\"country\"]\n",
    "        # Convert the date to ISO standard.\n",
    "        city_date = datetime.utcfromtimestamp(city_weather[\"dt\"]).strftime('%Y-%m-%d %H:%M:%S')\n",
    "        # Append the city information into city_data list.\n",
    "        city_data.append({\"City\": city.title(),\n",
    "                          \"Lat\": city_lat,\n",
    "                          \"Lng\": city_lng,\n",
    "                          \"Max Temp\": city_max_temp,\n",
    "                          \"Humidity\": city_humidity,\n",
    "                          \"Cloudiness\": city_clouds,\n",
    "                          \"Wind Speed\": city_wind,\n",
    "                          \"Country\": city_country,\n",
    "                          \"Date\": city_date})\n",
    "    # If an error is experienced, skip the city.\n",
    "    except:\n",
    "        print(f'{city} not found. Skipping...')\n",
    "        pass\n",
    "        \n",
    "# Indicate that Data Loading is complete.\n",
    "print(\"-----------------------------\")\n",
    "print(\"Data Retrieval Complete      \")\n",
    "print(\"-----------------------------\")\n",
    "    "
   ]
  },
  {
   "cell_type": "code",
   "execution_count": null,
   "metadata": {},
   "outputs": [],
   "source": [
    "len(city_data)"
   ]
  },
  {
   "cell_type": "code",
   "execution_count": null,
   "metadata": {},
   "outputs": [],
   "source": [
    "# Convert the array of dictionaries to a Pandas DataFrame.\n",
    "city_data_df = pd.DataFrame(city_data)\n",
    "city_data_df.head(10)"
   ]
  },
  {
   "cell_type": "code",
   "execution_count": null,
   "metadata": {},
   "outputs": [],
   "source": [
    "new_column_order = ['City','Country', 'Date', 'Lat', 'Lng', 'Max Temp', 'Humidity', 'Cloudiness', 'Wind Speed']\n",
    "city_data_df =city_data_df[new_column_order]"
   ]
  },
  {
   "cell_type": "code",
   "execution_count": null,
   "metadata": {},
   "outputs": [],
   "source": [
    "# Create the output file (CSV).\n",
    "output_data_file = 'weather_data/cities.csv'\n",
    "city_data_df.to_csv(output_data_file, index_label ='City_ID')"
   ]
  },
  {
   "cell_type": "code",
   "execution_count": null,
   "metadata": {},
   "outputs": [],
   "source": [
    "# Extract relevant fields from the DataFrame for plotting.\n",
    "lats = city_data_df['Lat']\n",
    "max_temps = city_data_df['Max Temp']\n",
    "humidity = city_data_df['Humidity']\n",
    "cloudiness = city_data_df['Cloudiness']\n",
    "wind_speed = city_data_df['Wind Speed']"
   ]
  },
  {
   "cell_type": "code",
   "execution_count": null,
   "metadata": {},
   "outputs": [],
   "source": [
    "# Get today's data\n",
    "import time\n",
    "today=time.strftime('%x')\n",
    "#Build Scatter plots for latitude vs. max temperature.\n",
    "fig, ax = plt.subplots()\n",
    "ax.scatter(lats, max_temps, \n",
    "          edgecolor='black', linewidth =1, marker='o',\n",
    "          alpha=0.8, label='Cities')\n",
    "# Incorporate the other graph properties.\n",
    "ax.set_title(f'City Latitude vs. Max Temperature '+today)\n",
    "ax.set_ylabel('Max Temperature (F)')\n",
    "ax.set_xlabel('Latitude')\n",
    "ax.grid(True)\n",
    "\n",
    "# Save the figure.\n",
    "plt.savefig(\"weather_data/Fig1.png\")\n",
    "\n",
    "# Show plot.\n",
    "plt.show()"
   ]
  },
  {
   "cell_type": "code",
   "execution_count": null,
   "metadata": {},
   "outputs": [],
   "source": [
    "#Build Scatter plots for latitude vs. humidity.\n",
    "fig, ax = plt.subplots()\n",
    "ax.scatter(lats, humidity, \n",
    "          edgecolor='black', linewidth =1, marker='o',\n",
    "          alpha=0.8, label='Cities')\n",
    "# Incorporate the other graph properties.\n",
    "ax.set_title(f'City Latitude vs. Humidity '+today)\n",
    "ax.set_ylabel('Humidity, %')\n",
    "ax.set_xlabel('Latitude')\n",
    "ax.grid(True)\n",
    "\n",
    "# Save the figure.\n",
    "plt.savefig(\"weather_data/Fig2.png\")\n",
    "\n",
    "# Show plot.\n",
    "plt.show()"
   ]
  },
  {
   "cell_type": "code",
   "execution_count": null,
   "metadata": {},
   "outputs": [],
   "source": [
    "#Build Scatter plots for latitude vs. Cloudiness.\n",
    "fig, ax = plt.subplots()\n",
    "ax.scatter(lats, cloudiness, \n",
    "          edgecolor='black', linewidth =1, marker='o',\n",
    "          alpha=0.8, label='Cities')\n",
    "# Incorporate the other graph properties.\n",
    "ax.set_title(f'City Latitude vs. Cloudiness '+today)\n",
    "ax.set_ylabel('Cloudiness, %')\n",
    "ax.set_xlabel('Latitude')\n",
    "ax.grid(True)\n",
    "\n",
    "# Save the figure.\n",
    "plt.savefig(\"weather_data/Fig3.png\")\n",
    "\n",
    "# Show plot.\n",
    "plt.show()"
   ]
  },
  {
   "cell_type": "code",
   "execution_count": null,
   "metadata": {},
   "outputs": [],
   "source": [
    "#Build Scatter plots for latitude vs. wind speed.\n",
    "fig, ax = plt.subplots()\n",
    "ax.scatter(lats, wind_speed, \n",
    "          edgecolor='black', linewidth =1, marker='o',\n",
    "          alpha=0.8, label='Cities')\n",
    "# Incorporate the other graph properties.\n",
    "ax.set_title(f'City Latitude vs. Wind Speed '+today)\n",
    "ax.set_ylabel('Wind Speed (mph)')\n",
    "ax.set_xlabel('Latitude')\n",
    "ax.grid(True)\n",
    "\n",
    "# Save the figure.\n",
    "plt.savefig(\"weather_data/Fig4.png\")\n",
    "\n",
    "# Show plot.\n",
    "plt.show()"
   ]
  },
  {
   "cell_type": "code",
   "execution_count": null,
   "metadata": {},
   "outputs": [],
   "source": [
    "# Create a function to create perform linear regression on the weather data\n",
    "# and plot a regression line and the equation with the data.\n",
    "def plot_linear_regression(x_values, y_values, title,  y_label, text_coordinates):\n",
    "    # Run regression on hemisphere weather data.\n",
    "    (slope, intercept, r_val, p_val, stderr) = linregress(x_values, y_values)\n",
    "    # Calculate the regression line \"y values\" from the slope and intercept.\n",
    "    regress_values = x_values*slope+intercept\n",
    "    # Get the equation of the line.\n",
    "    line_eq = \"y = \" + str(round(slope,2)) + \"x + \" + str(round(intercept,2))\n",
    "    # Create a scatter plot and plot the regression line.\n",
    "    plt.scatter(x_values, y_values)\n",
    "    plt.plot(x_values, regress_values, c='red')\n",
    "    # Annotate the text for the line equation.\n",
    "    plt.annotate(line_eq, text_coordinates, fontsize=15, color='red')\n",
    "    plt.xlabel('Latitude')\n",
    "    plt.ylabel(y_label)\n",
    "    plt.title(title)\n",
    "    plt.show()"
   ]
  },
  {
   "cell_type": "code",
   "execution_count": null,
   "metadata": {},
   "outputs": [],
   "source": [
    "northern_hemi_df = city_data_df.loc[(city_data_df['Lat'] >=0)]\n",
    "southern_hemi_df = city_data_df.loc[(city_data_df['Lat']<0)]"
   ]
  },
  {
   "cell_type": "code",
   "execution_count": null,
   "metadata": {},
   "outputs": [],
   "source": [
    "# Linear regression on the Northern Hemisphere\n",
    "plot_linear_regression(northern_hemi_df['Lat'], northern_hemi_df['Max Temp'], \n",
    "                       'Linear Regression on the Northern Hemisphere \\n for Maximum Temperature',\n",
    "                       'Max Temp', (10,40))"
   ]
  },
  {
   "cell_type": "code",
   "execution_count": null,
   "metadata": {},
   "outputs": [],
   "source": [
    "# Linear regression on the Southern Hemisphere\n",
    "plot_linear_regression(southern_hemi_df['Lat'], southern_hemi_df['Max Temp'], \n",
    "                       'Linear Regression on the Southern Hemisphere \\n for Maximum Temperature',\n",
    "                       'Max Temp', (-50,90))"
   ]
  },
  {
   "cell_type": "code",
   "execution_count": null,
   "metadata": {},
   "outputs": [],
   "source": [
    "# Linear regression on the Northern Hemisphere for Humidity\n",
    "plot_linear_regression(northern_hemi_df['Lat'], northern_hemi_df['Humidity'], \n",
    "                       'Linear Regression on the Northern Hemisphere \\n for Humidity',\n",
    "                       'Humidity', (40,20))"
   ]
  },
  {
   "cell_type": "code",
   "execution_count": null,
   "metadata": {},
   "outputs": [],
   "source": [
    "# Linear regression on the Southern Hemisphere for Humidity\n",
    "plot_linear_regression(southern_hemi_df['Lat'], southern_hemi_df['Humidity'], \n",
    "                       'Linear Regression on the Southern Hemisphere \\n for Humidity',\n",
    "                       'Humidity', (-50,20))"
   ]
  },
  {
   "cell_type": "code",
   "execution_count": null,
   "metadata": {},
   "outputs": [],
   "source": [
    "# Linear regression on the Northern Hemisphere for Humidity\n",
    "plot_linear_regression(northern_hemi_df['Lat'], northern_hemi_df['Cloudiness'], \n",
    "                       'Linear Regression on the Northern Hemisphere \\n for Cloudiness',\n",
    "                       'Cloudiness', (40,30))"
   ]
  },
  {
   "cell_type": "code",
   "execution_count": null,
   "metadata": {},
   "outputs": [],
   "source": [
    "# Linear regression on the Southern Hemisphere for Humidity\n",
    "plot_linear_regression(southern_hemi_df['Lat'], southern_hemi_df['Cloudiness'], \n",
    "                       'Linear Regression on the Southern Hemisphere \\n for Cloudiness',\n",
    "                       'Cloudiness', (-50,10))"
   ]
  },
  {
   "cell_type": "code",
   "execution_count": null,
   "metadata": {},
   "outputs": [],
   "source": [
    "# Linear regression on the Southern Hemisphere for Wind Speed\n",
    "plot_linear_regression(southern_hemi_df['Lat'], southern_hemi_df['Wind Speed'], \n",
    "                       'Linear Regression on the Southern Hemisphere \\n for Wind Speed',\n",
    "                       'Wind Speed', (-50,30))"
   ]
  },
  {
   "cell_type": "code",
   "execution_count": null,
   "metadata": {},
   "outputs": [],
   "source": [
    "# Linear regression on the Northern Hemisphere for Wind Speed\n",
    "plot_linear_regression(northern_hemi_df['Lat'], northern_hemi_df['Wind Speed'], \n",
    "                       'Linear Regression on the Northern Hemisphere \\n for Wind Speed',\n",
    "                       'Wind Speed', (10,30))"
   ]
  },
  {
   "cell_type": "code",
   "execution_count": null,
   "metadata": {},
   "outputs": [],
   "source": []
  }
 ],
 "metadata": {
  "kernelspec": {
   "display_name": "PythonData",
   "language": "python",
   "name": "pythondata"
  },
  "language_info": {
   "codemirror_mode": {
    "name": "ipython",
    "version": 3
   },
   "file_extension": ".py",
   "mimetype": "text/x-python",
   "name": "python",
   "nbconvert_exporter": "python",
   "pygments_lexer": "ipython3",
   "version": "3.7.7"
  }
 },
 "nbformat": 4,
 "nbformat_minor": 4
}
